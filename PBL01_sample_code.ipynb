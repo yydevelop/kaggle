{
  "nbformat": 4,
  "nbformat_minor": 0,
  "metadata": {
    "kernelspec": {
      "display_name": "Python 3",
      "language": "python",
      "name": "python3"
    },
    "language_info": {
      "codemirror_mode": {
        "name": "ipython",
        "version": 3
      },
      "file_extension": ".py",
      "mimetype": "text/x-python",
      "name": "python",
      "nbconvert_exporter": "python",
      "pygments_lexer": "ipython3",
      "version": "3.6.4"
    },
    "colab": {
      "name": "PBL01_sample_code.ipynb",
      "provenance": [],
      "include_colab_link": true
    }
  },
  "cells": [
    {
      "cell_type": "markdown",
      "metadata": {
        "id": "view-in-github",
        "colab_type": "text"
      },
      "source": [
        "<a href=\"https://colab.research.google.com/github/yydevelop/kaggle/blob/main/PBL01_sample_code.ipynb\" target=\"_parent\"><img src=\"https://colab.research.google.com/assets/colab-badge.svg\" alt=\"Open In Colab\"/></a>"
      ]
    },
    {
      "cell_type": "code",
      "metadata": {
        "colab": {
          "base_uri": "https://localhost:8080/"
        },
        "id": "wGH91VHCBkJI",
        "outputId": "7ba6db86-ebef-499f-9092-c5e7f27a4803"
      },
      "source": [
        "from google.colab import drive\n",
        "drive.mount('/content/gdrive')\n",
        "\n",
        "import os\n",
        "os.chdir('/content/gdrive/MyDrive/aiquest1')"
      ],
      "execution_count": null,
      "outputs": [
        {
          "output_type": "stream",
          "name": "stdout",
          "text": [
            "Drive already mounted at /content/gdrive; to attempt to forcibly remount, call drive.mount(\"/content/gdrive\", force_remount=True).\n"
          ]
        }
      ]
    },
    {
      "cell_type": "markdown",
      "metadata": {
        "id": "qR88ttWvBZno"
      },
      "source": [
        "# PBL01_需要予測・在庫最適化　サンプルコード\n",
        "\n",
        "当サンプルコードは、「PBL01_需要予測・在庫最適化のテーマのAI課題（演習④）」において、配布されたファイルを分析し、投稿ファイルを作成するまでの大まかな流れを、ソースコードや実行結果とともに示したものとなっていますので、詳細な分析を行う足がかりとしてご利用ください。\n",
        "\n",
        "当サンプルコードは、以下のような流れで構成されています。\n",
        "\n",
        "1. データの読み込み\n",
        "2. データの整理・概要把握\n",
        "3. 前処理\n",
        "4. 特徴量生成\n",
        "5. モデリング\n",
        "6. 提出用ファイルの作成\n",
        "\n",
        "なお、ソースコードは配布ファイルがすべて同じディレクトリ内に存在することを想定しています。"
      ]
    },
    {
      "cell_type": "markdown",
      "metadata": {
        "id": "eGZUAjdkBZnq"
      },
      "source": [
        "# ライブラリのインポート"
      ]
    },
    {
      "cell_type": "code",
      "metadata": {
        "id": "zHkuM79EBZnq"
      },
      "source": [
        "from itertools import product\n",
        "\n",
        "import pandas as pd\n",
        "import numpy as np\n",
        "\n",
        "from matplotlib import pyplot as plt\n",
        "%matplotlib inline\n",
        "import seaborn as sns\n",
        "\n",
        "from sklearn.linear_model import LinearRegression"
      ],
      "execution_count": null,
      "outputs": []
    },
    {
      "cell_type": "markdown",
      "metadata": {
        "id": "FvTsIvzuBZnr"
      },
      "source": [
        "# 1. データの読み込み: pandas.read_csv()"
      ]
    },
    {
      "cell_type": "code",
      "metadata": {
        "id": "CNIl8TQ0BZns"
      },
      "source": [
        "sales = pd.read_csv('sales_history.csv')\n",
        "cats = pd.read_csv('item_categories.csv')\n",
        "cat_names = pd.read_csv('category_names.csv')\n",
        "test = pd.read_csv('test.csv')\n",
        "sub = pd.read_csv('sample_submission.csv', header=None)"
      ],
      "execution_count": null,
      "outputs": []
    },
    {
      "cell_type": "markdown",
      "metadata": {
        "id": "eW_DPRTIBZns"
      },
      "source": [
        "### 各データの情報表示"
      ]
    },
    {
      "cell_type": "code",
      "metadata": {
        "colab": {
          "base_uri": "https://localhost:8080/",
          "height": 425
        },
        "id": "7EjkTUmYBZns",
        "outputId": "b0407314-34b3-4583-cbac-9bd594ac0183"
      },
      "source": [
        "# sales_history.csvに関する情報を表示\n",
        "print(sales.info())\n",
        "sales.head()"
      ],
      "execution_count": null,
      "outputs": [
        {
          "output_type": "stream",
          "name": "stdout",
          "text": [
            "<class 'pandas.core.frame.DataFrame'>\n",
            "RangeIndex: 1119570 entries, 0 to 1119569\n",
            "Data columns (total 5 columns):\n",
            " #   Column  Non-Null Count    Dtype  \n",
            "---  ------  --------------    -----  \n",
            " 0   日付      1119570 non-null  object \n",
            " 1   店舗ID    1119570 non-null  int64  \n",
            " 2   商品ID    1119570 non-null  int64  \n",
            " 3   商品価格    1119570 non-null  int64  \n",
            " 4   売上個数    1119570 non-null  float64\n",
            "dtypes: float64(1), int64(3), object(1)\n",
            "memory usage: 42.7+ MB\n",
            "None\n"
          ]
        },
        {
          "output_type": "execute_result",
          "data": {
            "text/html": [
              "<div>\n",
              "<style scoped>\n",
              "    .dataframe tbody tr th:only-of-type {\n",
              "        vertical-align: middle;\n",
              "    }\n",
              "\n",
              "    .dataframe tbody tr th {\n",
              "        vertical-align: top;\n",
              "    }\n",
              "\n",
              "    .dataframe thead th {\n",
              "        text-align: right;\n",
              "    }\n",
              "</style>\n",
              "<table border=\"1\" class=\"dataframe\">\n",
              "  <thead>\n",
              "    <tr style=\"text-align: right;\">\n",
              "      <th></th>\n",
              "      <th>日付</th>\n",
              "      <th>店舗ID</th>\n",
              "      <th>商品ID</th>\n",
              "      <th>商品価格</th>\n",
              "      <th>売上個数</th>\n",
              "    </tr>\n",
              "  </thead>\n",
              "  <tbody>\n",
              "    <tr>\n",
              "      <th>0</th>\n",
              "      <td>2018-01-01</td>\n",
              "      <td>9</td>\n",
              "      <td>1000001</td>\n",
              "      <td>420</td>\n",
              "      <td>1.0</td>\n",
              "    </tr>\n",
              "    <tr>\n",
              "      <th>1</th>\n",
              "      <td>2018-01-01</td>\n",
              "      <td>6</td>\n",
              "      <td>1000001</td>\n",
              "      <td>420</td>\n",
              "      <td>1.0</td>\n",
              "    </tr>\n",
              "    <tr>\n",
              "      <th>2</th>\n",
              "      <td>2018-01-01</td>\n",
              "      <td>10</td>\n",
              "      <td>1000001</td>\n",
              "      <td>420</td>\n",
              "      <td>1.0</td>\n",
              "    </tr>\n",
              "    <tr>\n",
              "      <th>3</th>\n",
              "      <td>2018-01-01</td>\n",
              "      <td>0</td>\n",
              "      <td>1000017</td>\n",
              "      <td>250</td>\n",
              "      <td>1.0</td>\n",
              "    </tr>\n",
              "    <tr>\n",
              "      <th>4</th>\n",
              "      <td>2018-01-01</td>\n",
              "      <td>1</td>\n",
              "      <td>1000017</td>\n",
              "      <td>250</td>\n",
              "      <td>1.0</td>\n",
              "    </tr>\n",
              "  </tbody>\n",
              "</table>\n",
              "</div>"
            ],
            "text/plain": [
              "           日付  店舗ID     商品ID  商品価格  売上個数\n",
              "0  2018-01-01     9  1000001   420   1.0\n",
              "1  2018-01-01     6  1000001   420   1.0\n",
              "2  2018-01-01    10  1000001   420   1.0\n",
              "3  2018-01-01     0  1000017   250   1.0\n",
              "4  2018-01-01     1  1000017   250   1.0"
            ]
          },
          "metadata": {},
          "execution_count": 120
        }
      ]
    },
    {
      "cell_type": "code",
      "metadata": {
        "colab": {
          "base_uri": "https://localhost:8080/",
          "height": 374
        },
        "id": "6n2-R9HkBZnt",
        "outputId": "cffd7d17-8285-47cf-8a5d-17ae9bc52bc2"
      },
      "source": [
        "# item_categories.csvに関する情報を表示\n",
        "print(cats.info())\n",
        "cats.head()"
      ],
      "execution_count": null,
      "outputs": [
        {
          "output_type": "stream",
          "name": "stdout",
          "text": [
            "<class 'pandas.core.frame.DataFrame'>\n",
            "RangeIndex: 9426 entries, 0 to 9425\n",
            "Data columns (total 2 columns):\n",
            " #   Column    Non-Null Count  Dtype\n",
            "---  ------    --------------  -----\n",
            " 0   商品ID      9426 non-null   int64\n",
            " 1   商品カテゴリID  9426 non-null   int64\n",
            "dtypes: int64(2)\n",
            "memory usage: 147.4 KB\n",
            "None\n"
          ]
        },
        {
          "output_type": "execute_result",
          "data": {
            "text/html": [
              "<div>\n",
              "<style scoped>\n",
              "    .dataframe tbody tr th:only-of-type {\n",
              "        vertical-align: middle;\n",
              "    }\n",
              "\n",
              "    .dataframe tbody tr th {\n",
              "        vertical-align: top;\n",
              "    }\n",
              "\n",
              "    .dataframe thead th {\n",
              "        text-align: right;\n",
              "    }\n",
              "</style>\n",
              "<table border=\"1\" class=\"dataframe\">\n",
              "  <thead>\n",
              "    <tr style=\"text-align: right;\">\n",
              "      <th></th>\n",
              "      <th>商品ID</th>\n",
              "      <th>商品カテゴリID</th>\n",
              "    </tr>\n",
              "  </thead>\n",
              "  <tbody>\n",
              "    <tr>\n",
              "      <th>0</th>\n",
              "      <td>1000001</td>\n",
              "      <td>100</td>\n",
              "    </tr>\n",
              "    <tr>\n",
              "      <th>1</th>\n",
              "      <td>1000002</td>\n",
              "      <td>100</td>\n",
              "    </tr>\n",
              "    <tr>\n",
              "      <th>2</th>\n",
              "      <td>1000003</td>\n",
              "      <td>100</td>\n",
              "    </tr>\n",
              "    <tr>\n",
              "      <th>3</th>\n",
              "      <td>1000004</td>\n",
              "      <td>100</td>\n",
              "    </tr>\n",
              "    <tr>\n",
              "      <th>4</th>\n",
              "      <td>1000005</td>\n",
              "      <td>100</td>\n",
              "    </tr>\n",
              "  </tbody>\n",
              "</table>\n",
              "</div>"
            ],
            "text/plain": [
              "      商品ID  商品カテゴリID\n",
              "0  1000001       100\n",
              "1  1000002       100\n",
              "2  1000003       100\n",
              "3  1000004       100\n",
              "4  1000005       100"
            ]
          },
          "metadata": {},
          "execution_count": 121
        }
      ]
    },
    {
      "cell_type": "code",
      "metadata": {
        "colab": {
          "base_uri": "https://localhost:8080/",
          "height": 374
        },
        "id": "X7_uznLwBZnu",
        "outputId": "694e4877-85b5-42f5-e93a-6d4610b24368"
      },
      "source": [
        "# cat_namesに関する情報を表示\n",
        "print(cat_names.info())\n",
        "cat_names.head()"
      ],
      "execution_count": null,
      "outputs": [
        {
          "output_type": "stream",
          "name": "stdout",
          "text": [
            "<class 'pandas.core.frame.DataFrame'>\n",
            "RangeIndex: 26 entries, 0 to 25\n",
            "Data columns (total 2 columns):\n",
            " #   Column    Non-Null Count  Dtype \n",
            "---  ------    --------------  ----- \n",
            " 0   商品カテゴリID  26 non-null     int64 \n",
            " 1   商品カテゴリ名   26 non-null     object\n",
            "dtypes: int64(1), object(1)\n",
            "memory usage: 544.0+ bytes\n",
            "None\n"
          ]
        },
        {
          "output_type": "execute_result",
          "data": {
            "text/html": [
              "<div>\n",
              "<style scoped>\n",
              "    .dataframe tbody tr th:only-of-type {\n",
              "        vertical-align: middle;\n",
              "    }\n",
              "\n",
              "    .dataframe tbody tr th {\n",
              "        vertical-align: top;\n",
              "    }\n",
              "\n",
              "    .dataframe thead th {\n",
              "        text-align: right;\n",
              "    }\n",
              "</style>\n",
              "<table border=\"1\" class=\"dataframe\">\n",
              "  <thead>\n",
              "    <tr style=\"text-align: right;\">\n",
              "      <th></th>\n",
              "      <th>商品カテゴリID</th>\n",
              "      <th>商品カテゴリ名</th>\n",
              "    </tr>\n",
              "  </thead>\n",
              "  <tbody>\n",
              "    <tr>\n",
              "      <th>0</th>\n",
              "      <td>100</td>\n",
              "      <td>映画 - DVD</td>\n",
              "    </tr>\n",
              "    <tr>\n",
              "      <th>1</th>\n",
              "      <td>110</td>\n",
              "      <td>PCゲーム - 通常版</td>\n",
              "    </tr>\n",
              "    <tr>\n",
              "      <th>2</th>\n",
              "      <td>120</td>\n",
              "      <td>音楽 - その他</td>\n",
              "    </tr>\n",
              "    <tr>\n",
              "      <th>3</th>\n",
              "      <td>130</td>\n",
              "      <td>ゲーム - ゲーム機C</td>\n",
              "    </tr>\n",
              "    <tr>\n",
              "      <th>4</th>\n",
              "      <td>140</td>\n",
              "      <td>映画 - ブルーレイ</td>\n",
              "    </tr>\n",
              "  </tbody>\n",
              "</table>\n",
              "</div>"
            ],
            "text/plain": [
              "   商品カテゴリID      商品カテゴリ名\n",
              "0       100     映画 - DVD\n",
              "1       110  PCゲーム - 通常版\n",
              "2       120     音楽 - その他\n",
              "3       130  ゲーム - ゲーム機C\n",
              "4       140   映画 - ブルーレイ"
            ]
          },
          "metadata": {},
          "execution_count": 122
        }
      ]
    },
    {
      "cell_type": "code",
      "metadata": {
        "colab": {
          "base_uri": "https://localhost:8080/",
          "height": 391
        },
        "id": "rulHg48EBZnu",
        "outputId": "fb212a55-680c-430f-911f-9359fa122bb4"
      },
      "source": [
        "# test.csvに関する情報を表示\n",
        "print(test.info())\n",
        "test.head()"
      ],
      "execution_count": null,
      "outputs": [
        {
          "output_type": "stream",
          "name": "stdout",
          "text": [
            "<class 'pandas.core.frame.DataFrame'>\n",
            "RangeIndex: 3060 entries, 0 to 3059\n",
            "Data columns (total 3 columns):\n",
            " #   Column  Non-Null Count  Dtype\n",
            "---  ------  --------------  -----\n",
            " 0   index   3060 non-null   int64\n",
            " 1   商品ID    3060 non-null   int64\n",
            " 2   店舗ID    3060 non-null   int64\n",
            "dtypes: int64(3)\n",
            "memory usage: 71.8 KB\n",
            "None\n"
          ]
        },
        {
          "output_type": "execute_result",
          "data": {
            "text/html": [
              "<div>\n",
              "<style scoped>\n",
              "    .dataframe tbody tr th:only-of-type {\n",
              "        vertical-align: middle;\n",
              "    }\n",
              "\n",
              "    .dataframe tbody tr th {\n",
              "        vertical-align: top;\n",
              "    }\n",
              "\n",
              "    .dataframe thead th {\n",
              "        text-align: right;\n",
              "    }\n",
              "</style>\n",
              "<table border=\"1\" class=\"dataframe\">\n",
              "  <thead>\n",
              "    <tr style=\"text-align: right;\">\n",
              "      <th></th>\n",
              "      <th>index</th>\n",
              "      <th>商品ID</th>\n",
              "      <th>店舗ID</th>\n",
              "    </tr>\n",
              "  </thead>\n",
              "  <tbody>\n",
              "    <tr>\n",
              "      <th>0</th>\n",
              "      <td>0</td>\n",
              "      <td>1000001</td>\n",
              "      <td>0</td>\n",
              "    </tr>\n",
              "    <tr>\n",
              "      <th>1</th>\n",
              "      <td>1</td>\n",
              "      <td>1000001</td>\n",
              "      <td>1</td>\n",
              "    </tr>\n",
              "    <tr>\n",
              "      <th>2</th>\n",
              "      <td>2</td>\n",
              "      <td>1000001</td>\n",
              "      <td>2</td>\n",
              "    </tr>\n",
              "    <tr>\n",
              "      <th>3</th>\n",
              "      <td>3</td>\n",
              "      <td>1000001</td>\n",
              "      <td>3</td>\n",
              "    </tr>\n",
              "    <tr>\n",
              "      <th>4</th>\n",
              "      <td>4</td>\n",
              "      <td>1000001</td>\n",
              "      <td>4</td>\n",
              "    </tr>\n",
              "  </tbody>\n",
              "</table>\n",
              "</div>"
            ],
            "text/plain": [
              "   index     商品ID  店舗ID\n",
              "0      0  1000001     0\n",
              "1      1  1000001     1\n",
              "2      2  1000001     2\n",
              "3      3  1000001     3\n",
              "4      4  1000001     4"
            ]
          },
          "metadata": {},
          "execution_count": 123
        }
      ]
    },
    {
      "cell_type": "code",
      "metadata": {
        "colab": {
          "base_uri": "https://localhost:8080/",
          "height": 374
        },
        "id": "I6TRvn27BZnv",
        "outputId": "8c9aafaa-21a8-4b40-f960-2885ef4a130c"
      },
      "source": [
        "# sample_submission.csvに関する情報を表示\n",
        "print(sub.info())\n",
        "sub.head()"
      ],
      "execution_count": null,
      "outputs": [
        {
          "output_type": "stream",
          "name": "stdout",
          "text": [
            "<class 'pandas.core.frame.DataFrame'>\n",
            "RangeIndex: 3060 entries, 0 to 3059\n",
            "Data columns (total 2 columns):\n",
            " #   Column  Non-Null Count  Dtype\n",
            "---  ------  --------------  -----\n",
            " 0   0       3060 non-null   int64\n",
            " 1   1       3060 non-null   int64\n",
            "dtypes: int64(2)\n",
            "memory usage: 47.9 KB\n",
            "None\n"
          ]
        },
        {
          "output_type": "execute_result",
          "data": {
            "text/html": [
              "<div>\n",
              "<style scoped>\n",
              "    .dataframe tbody tr th:only-of-type {\n",
              "        vertical-align: middle;\n",
              "    }\n",
              "\n",
              "    .dataframe tbody tr th {\n",
              "        vertical-align: top;\n",
              "    }\n",
              "\n",
              "    .dataframe thead th {\n",
              "        text-align: right;\n",
              "    }\n",
              "</style>\n",
              "<table border=\"1\" class=\"dataframe\">\n",
              "  <thead>\n",
              "    <tr style=\"text-align: right;\">\n",
              "      <th></th>\n",
              "      <th>0</th>\n",
              "      <th>1</th>\n",
              "    </tr>\n",
              "  </thead>\n",
              "  <tbody>\n",
              "    <tr>\n",
              "      <th>0</th>\n",
              "      <td>0</td>\n",
              "      <td>100</td>\n",
              "    </tr>\n",
              "    <tr>\n",
              "      <th>1</th>\n",
              "      <td>1</td>\n",
              "      <td>100</td>\n",
              "    </tr>\n",
              "    <tr>\n",
              "      <th>2</th>\n",
              "      <td>2</td>\n",
              "      <td>100</td>\n",
              "    </tr>\n",
              "    <tr>\n",
              "      <th>3</th>\n",
              "      <td>3</td>\n",
              "      <td>100</td>\n",
              "    </tr>\n",
              "    <tr>\n",
              "      <th>4</th>\n",
              "      <td>4</td>\n",
              "      <td>100</td>\n",
              "    </tr>\n",
              "  </tbody>\n",
              "</table>\n",
              "</div>"
            ],
            "text/plain": [
              "   0    1\n",
              "0  0  100\n",
              "1  1  100\n",
              "2  2  100\n",
              "3  3  100\n",
              "4  4  100"
            ]
          },
          "metadata": {},
          "execution_count": 124
        }
      ]
    },
    {
      "cell_type": "markdown",
      "metadata": {
        "id": "zVf346N1BZnv"
      },
      "source": [
        "# 2. データの整理、概要把握"
      ]
    },
    {
      "cell_type": "markdown",
      "metadata": {
        "id": "B3DKMIibBZnv"
      },
      "source": [
        "### 商品ID種類数の確認: pandas.Series.nunique()"
      ]
    },
    {
      "cell_type": "code",
      "metadata": {
        "colab": {
          "base_uri": "https://localhost:8080/"
        },
        "id": "hZOF-NmqBZnv",
        "outputId": "037b636c-c141-49de-a085-f87440efa7c1"
      },
      "source": [
        "# trainデータに含まれる商品IDの種類数\n",
        "print(sales['商品ID'].nunique())"
      ],
      "execution_count": null,
      "outputs": [
        {
          "output_type": "stream",
          "name": "stdout",
          "text": [
            "9040\n"
          ]
        }
      ]
    },
    {
      "cell_type": "code",
      "metadata": {
        "colab": {
          "base_uri": "https://localhost:8080/"
        },
        "id": "9uJWoCs5BZnw",
        "outputId": "26e386d7-480e-4ec8-d20f-ab0dde27f3b4"
      },
      "source": [
        "# testデータに含まれる商品IDの種類数\n",
        "print(test['商品ID'].nunique())"
      ],
      "execution_count": null,
      "outputs": [
        {
          "output_type": "stream",
          "name": "stdout",
          "text": [
            "170\n"
          ]
        }
      ]
    },
    {
      "cell_type": "markdown",
      "metadata": {
        "id": "0Ki38MixBZnw"
      },
      "source": [
        "### データのマージ(統合): pd.merge(df1, df2)\n",
        "\n",
        "「sales_history.csv」、「item_category.csv」、「category_names.csv」の3つのテーブルを統合する。"
      ]
    },
    {
      "cell_type": "code",
      "metadata": {
        "colab": {
          "base_uri": "https://localhost:8080/",
          "height": 204
        },
        "id": "ZC1wCd2kBZnw",
        "outputId": "485b3572-426e-45d2-96bd-38a5932d459d"
      },
      "source": [
        "merged_data = pd.merge(sales, cats, on='商品ID', how='left')\n",
        "merged_data = pd.merge(merged_data, cat_names, on='商品カテゴリID', how='left')\n",
        "\n",
        "merged_data.head()"
      ],
      "execution_count": null,
      "outputs": [
        {
          "output_type": "execute_result",
          "data": {
            "text/html": [
              "<div>\n",
              "<style scoped>\n",
              "    .dataframe tbody tr th:only-of-type {\n",
              "        vertical-align: middle;\n",
              "    }\n",
              "\n",
              "    .dataframe tbody tr th {\n",
              "        vertical-align: top;\n",
              "    }\n",
              "\n",
              "    .dataframe thead th {\n",
              "        text-align: right;\n",
              "    }\n",
              "</style>\n",
              "<table border=\"1\" class=\"dataframe\">\n",
              "  <thead>\n",
              "    <tr style=\"text-align: right;\">\n",
              "      <th></th>\n",
              "      <th>日付</th>\n",
              "      <th>店舗ID</th>\n",
              "      <th>商品ID</th>\n",
              "      <th>商品価格</th>\n",
              "      <th>売上個数</th>\n",
              "      <th>商品カテゴリID</th>\n",
              "      <th>商品カテゴリ名</th>\n",
              "    </tr>\n",
              "  </thead>\n",
              "  <tbody>\n",
              "    <tr>\n",
              "      <th>0</th>\n",
              "      <td>2018-01-01</td>\n",
              "      <td>9</td>\n",
              "      <td>1000001</td>\n",
              "      <td>420</td>\n",
              "      <td>1.0</td>\n",
              "      <td>100</td>\n",
              "      <td>映画 - DVD</td>\n",
              "    </tr>\n",
              "    <tr>\n",
              "      <th>1</th>\n",
              "      <td>2018-01-01</td>\n",
              "      <td>6</td>\n",
              "      <td>1000001</td>\n",
              "      <td>420</td>\n",
              "      <td>1.0</td>\n",
              "      <td>100</td>\n",
              "      <td>映画 - DVD</td>\n",
              "    </tr>\n",
              "    <tr>\n",
              "      <th>2</th>\n",
              "      <td>2018-01-01</td>\n",
              "      <td>10</td>\n",
              "      <td>1000001</td>\n",
              "      <td>420</td>\n",
              "      <td>1.0</td>\n",
              "      <td>100</td>\n",
              "      <td>映画 - DVD</td>\n",
              "    </tr>\n",
              "    <tr>\n",
              "      <th>3</th>\n",
              "      <td>2018-01-01</td>\n",
              "      <td>0</td>\n",
              "      <td>1000017</td>\n",
              "      <td>250</td>\n",
              "      <td>1.0</td>\n",
              "      <td>100</td>\n",
              "      <td>映画 - DVD</td>\n",
              "    </tr>\n",
              "    <tr>\n",
              "      <th>4</th>\n",
              "      <td>2018-01-01</td>\n",
              "      <td>1</td>\n",
              "      <td>1000017</td>\n",
              "      <td>250</td>\n",
              "      <td>1.0</td>\n",
              "      <td>100</td>\n",
              "      <td>映画 - DVD</td>\n",
              "    </tr>\n",
              "  </tbody>\n",
              "</table>\n",
              "</div>"
            ],
            "text/plain": [
              "           日付  店舗ID     商品ID  商品価格  売上個数  商品カテゴリID   商品カテゴリ名\n",
              "0  2018-01-01     9  1000001   420   1.0       100  映画 - DVD\n",
              "1  2018-01-01     6  1000001   420   1.0       100  映画 - DVD\n",
              "2  2018-01-01    10  1000001   420   1.0       100  映画 - DVD\n",
              "3  2018-01-01     0  1000017   250   1.0       100  映画 - DVD\n",
              "4  2018-01-01     1  1000017   250   1.0       100  映画 - DVD"
            ]
          },
          "metadata": {},
          "execution_count": 127
        }
      ]
    },
    {
      "cell_type": "markdown",
      "metadata": {
        "id": "Dy7PCmgGBZnx"
      },
      "source": [
        "「商品ID」、「商品カテゴリID」、「商品カテゴリ名」を互いに紐付けることで、1つのテーブルに情報を集約することができた。"
      ]
    },
    {
      "cell_type": "markdown",
      "metadata": {
        "id": "6_K-1xbFBZnx"
      },
      "source": [
        "### 「日付」カラムの文字列から「年」「月」の情報を抽出する。: pandas.Series.apply(), str.split()\n",
        "\n",
        "「日付」カラムの規則性を利用して、より扱いやすい形で情報を抽出する。"
      ]
    },
    {
      "cell_type": "code",
      "metadata": {
        "colab": {
          "base_uri": "https://localhost:8080/",
          "height": 204
        },
        "id": "0NZ58t22BZnx",
        "outputId": "412e607d-f4f1-4560-d635-4d5b223ab864"
      },
      "source": [
        "# 「日付」カラムの文字列から、「年」「月」の情報を抽出する\n",
        "sales['年'] = sales['日付'].apply(lambda x: x.split('-')[0])\n",
        "sales['月'] = sales['日付'].apply(lambda x: x.split('-')[1])\n",
        "\n",
        "sales.head()"
      ],
      "execution_count": null,
      "outputs": [
        {
          "output_type": "execute_result",
          "data": {
            "text/html": [
              "<div>\n",
              "<style scoped>\n",
              "    .dataframe tbody tr th:only-of-type {\n",
              "        vertical-align: middle;\n",
              "    }\n",
              "\n",
              "    .dataframe tbody tr th {\n",
              "        vertical-align: top;\n",
              "    }\n",
              "\n",
              "    .dataframe thead th {\n",
              "        text-align: right;\n",
              "    }\n",
              "</style>\n",
              "<table border=\"1\" class=\"dataframe\">\n",
              "  <thead>\n",
              "    <tr style=\"text-align: right;\">\n",
              "      <th></th>\n",
              "      <th>日付</th>\n",
              "      <th>店舗ID</th>\n",
              "      <th>商品ID</th>\n",
              "      <th>商品価格</th>\n",
              "      <th>売上個数</th>\n",
              "      <th>年</th>\n",
              "      <th>月</th>\n",
              "    </tr>\n",
              "  </thead>\n",
              "  <tbody>\n",
              "    <tr>\n",
              "      <th>0</th>\n",
              "      <td>2018-01-01</td>\n",
              "      <td>9</td>\n",
              "      <td>1000001</td>\n",
              "      <td>420</td>\n",
              "      <td>1.0</td>\n",
              "      <td>2018</td>\n",
              "      <td>01</td>\n",
              "    </tr>\n",
              "    <tr>\n",
              "      <th>1</th>\n",
              "      <td>2018-01-01</td>\n",
              "      <td>6</td>\n",
              "      <td>1000001</td>\n",
              "      <td>420</td>\n",
              "      <td>1.0</td>\n",
              "      <td>2018</td>\n",
              "      <td>01</td>\n",
              "    </tr>\n",
              "    <tr>\n",
              "      <th>2</th>\n",
              "      <td>2018-01-01</td>\n",
              "      <td>10</td>\n",
              "      <td>1000001</td>\n",
              "      <td>420</td>\n",
              "      <td>1.0</td>\n",
              "      <td>2018</td>\n",
              "      <td>01</td>\n",
              "    </tr>\n",
              "    <tr>\n",
              "      <th>3</th>\n",
              "      <td>2018-01-01</td>\n",
              "      <td>0</td>\n",
              "      <td>1000017</td>\n",
              "      <td>250</td>\n",
              "      <td>1.0</td>\n",
              "      <td>2018</td>\n",
              "      <td>01</td>\n",
              "    </tr>\n",
              "    <tr>\n",
              "      <th>4</th>\n",
              "      <td>2018-01-01</td>\n",
              "      <td>1</td>\n",
              "      <td>1000017</td>\n",
              "      <td>250</td>\n",
              "      <td>1.0</td>\n",
              "      <td>2018</td>\n",
              "      <td>01</td>\n",
              "    </tr>\n",
              "  </tbody>\n",
              "</table>\n",
              "</div>"
            ],
            "text/plain": [
              "           日付  店舗ID     商品ID  商品価格  売上個数     年   月\n",
              "0  2018-01-01     9  1000001   420   1.0  2018  01\n",
              "1  2018-01-01     6  1000001   420   1.0  2018  01\n",
              "2  2018-01-01    10  1000001   420   1.0  2018  01\n",
              "3  2018-01-01     0  1000017   250   1.0  2018  01\n",
              "4  2018-01-01     1  1000017   250   1.0  2018  01"
            ]
          },
          "metadata": {},
          "execution_count": 128
        }
      ]
    },
    {
      "cell_type": "code",
      "metadata": {
        "colab": {
          "base_uri": "https://localhost:8080/",
          "height": 731
        },
        "id": "D13yFYCrBZnx",
        "outputId": "e0bbb8df-0564-4ed3-e8a1-44d9a57369bb"
      },
      "source": [
        "# 「年」と「月」の全組み合わせを作成する\n",
        "gp_time = sales.groupby(['年', '月']).count().reset_index()[['年', '月']]\n",
        "gp_time"
      ],
      "execution_count": null,
      "outputs": [
        {
          "output_type": "execute_result",
          "data": {
            "text/html": [
              "<div>\n",
              "<style scoped>\n",
              "    .dataframe tbody tr th:only-of-type {\n",
              "        vertical-align: middle;\n",
              "    }\n",
              "\n",
              "    .dataframe tbody tr th {\n",
              "        vertical-align: top;\n",
              "    }\n",
              "\n",
              "    .dataframe thead th {\n",
              "        text-align: right;\n",
              "    }\n",
              "</style>\n",
              "<table border=\"1\" class=\"dataframe\">\n",
              "  <thead>\n",
              "    <tr style=\"text-align: right;\">\n",
              "      <th></th>\n",
              "      <th>年</th>\n",
              "      <th>月</th>\n",
              "    </tr>\n",
              "  </thead>\n",
              "  <tbody>\n",
              "    <tr>\n",
              "      <th>0</th>\n",
              "      <td>2018</td>\n",
              "      <td>01</td>\n",
              "    </tr>\n",
              "    <tr>\n",
              "      <th>1</th>\n",
              "      <td>2018</td>\n",
              "      <td>02</td>\n",
              "    </tr>\n",
              "    <tr>\n",
              "      <th>2</th>\n",
              "      <td>2018</td>\n",
              "      <td>03</td>\n",
              "    </tr>\n",
              "    <tr>\n",
              "      <th>3</th>\n",
              "      <td>2018</td>\n",
              "      <td>04</td>\n",
              "    </tr>\n",
              "    <tr>\n",
              "      <th>4</th>\n",
              "      <td>2018</td>\n",
              "      <td>05</td>\n",
              "    </tr>\n",
              "    <tr>\n",
              "      <th>5</th>\n",
              "      <td>2018</td>\n",
              "      <td>06</td>\n",
              "    </tr>\n",
              "    <tr>\n",
              "      <th>6</th>\n",
              "      <td>2018</td>\n",
              "      <td>07</td>\n",
              "    </tr>\n",
              "    <tr>\n",
              "      <th>7</th>\n",
              "      <td>2018</td>\n",
              "      <td>08</td>\n",
              "    </tr>\n",
              "    <tr>\n",
              "      <th>8</th>\n",
              "      <td>2018</td>\n",
              "      <td>09</td>\n",
              "    </tr>\n",
              "    <tr>\n",
              "      <th>9</th>\n",
              "      <td>2018</td>\n",
              "      <td>10</td>\n",
              "    </tr>\n",
              "    <tr>\n",
              "      <th>10</th>\n",
              "      <td>2018</td>\n",
              "      <td>11</td>\n",
              "    </tr>\n",
              "    <tr>\n",
              "      <th>11</th>\n",
              "      <td>2018</td>\n",
              "      <td>12</td>\n",
              "    </tr>\n",
              "    <tr>\n",
              "      <th>12</th>\n",
              "      <td>2019</td>\n",
              "      <td>01</td>\n",
              "    </tr>\n",
              "    <tr>\n",
              "      <th>13</th>\n",
              "      <td>2019</td>\n",
              "      <td>02</td>\n",
              "    </tr>\n",
              "    <tr>\n",
              "      <th>14</th>\n",
              "      <td>2019</td>\n",
              "      <td>03</td>\n",
              "    </tr>\n",
              "    <tr>\n",
              "      <th>15</th>\n",
              "      <td>2019</td>\n",
              "      <td>04</td>\n",
              "    </tr>\n",
              "    <tr>\n",
              "      <th>16</th>\n",
              "      <td>2019</td>\n",
              "      <td>05</td>\n",
              "    </tr>\n",
              "    <tr>\n",
              "      <th>17</th>\n",
              "      <td>2019</td>\n",
              "      <td>06</td>\n",
              "    </tr>\n",
              "    <tr>\n",
              "      <th>18</th>\n",
              "      <td>2019</td>\n",
              "      <td>07</td>\n",
              "    </tr>\n",
              "    <tr>\n",
              "      <th>19</th>\n",
              "      <td>2019</td>\n",
              "      <td>08</td>\n",
              "    </tr>\n",
              "    <tr>\n",
              "      <th>20</th>\n",
              "      <td>2019</td>\n",
              "      <td>09</td>\n",
              "    </tr>\n",
              "    <tr>\n",
              "      <th>21</th>\n",
              "      <td>2019</td>\n",
              "      <td>10</td>\n",
              "    </tr>\n",
              "  </tbody>\n",
              "</table>\n",
              "</div>"
            ],
            "text/plain": [
              "       年   月\n",
              "0   2018  01\n",
              "1   2018  02\n",
              "2   2018  03\n",
              "3   2018  04\n",
              "4   2018  05\n",
              "5   2018  06\n",
              "6   2018  07\n",
              "7   2018  08\n",
              "8   2018  09\n",
              "9   2018  10\n",
              "10  2018  11\n",
              "11  2018  12\n",
              "12  2019  01\n",
              "13  2019  02\n",
              "14  2019  03\n",
              "15  2019  04\n",
              "16  2019  05\n",
              "17  2019  06\n",
              "18  2019  07\n",
              "19  2019  08\n",
              "20  2019  09\n",
              "21  2019  10"
            ]
          },
          "metadata": {},
          "execution_count": 129
        }
      ]
    },
    {
      "cell_type": "markdown",
      "metadata": {
        "id": "BKVFQ6f3BZny"
      },
      "source": [
        "上記の結果から、売上履歴は「2018年1月〜2019年10月」の22ヶ月分存在することがわかる。<br>\n",
        "時系列をわかりやすくするため、以下のように、「月」単位で通し番号をつけることにする。\n",
        "\n",
        "- 2018年1月: `0`\n",
        "- 2018年2月: `1`\n",
        "\n",
        "...\n",
        "\n",
        "- 2019年9月: `20`\n",
        "- 2019年10月: `21`"
      ]
    },
    {
      "cell_type": "code",
      "metadata": {
        "colab": {
          "base_uri": "https://localhost:8080/",
          "height": 762
        },
        "id": "1SKDE-Z2BZny",
        "outputId": "31e508d1-3140-4663-ddb1-3d527f1acc54"
      },
      "source": [
        "# カラム名「月ブロック」として、通し番号をつける\n",
        "gp_time['月ブロック'] = list(range(len(gp_time)))\n",
        "\n",
        "# testデータ用に、評価対象期間である2019年12月(月ブロック: 23)のレコードを追加する\n",
        "gp_time = gp_time.append({\n",
        "    '月ブロック': 23,\n",
        "    '年': '2019',\n",
        "    '月': '12'\n",
        "}, ignore_index=True)\n",
        "\n",
        "gp_time"
      ],
      "execution_count": null,
      "outputs": [
        {
          "output_type": "execute_result",
          "data": {
            "text/html": [
              "<div>\n",
              "<style scoped>\n",
              "    .dataframe tbody tr th:only-of-type {\n",
              "        vertical-align: middle;\n",
              "    }\n",
              "\n",
              "    .dataframe tbody tr th {\n",
              "        vertical-align: top;\n",
              "    }\n",
              "\n",
              "    .dataframe thead th {\n",
              "        text-align: right;\n",
              "    }\n",
              "</style>\n",
              "<table border=\"1\" class=\"dataframe\">\n",
              "  <thead>\n",
              "    <tr style=\"text-align: right;\">\n",
              "      <th></th>\n",
              "      <th>年</th>\n",
              "      <th>月</th>\n",
              "      <th>月ブロック</th>\n",
              "    </tr>\n",
              "  </thead>\n",
              "  <tbody>\n",
              "    <tr>\n",
              "      <th>0</th>\n",
              "      <td>2018</td>\n",
              "      <td>01</td>\n",
              "      <td>0</td>\n",
              "    </tr>\n",
              "    <tr>\n",
              "      <th>1</th>\n",
              "      <td>2018</td>\n",
              "      <td>02</td>\n",
              "      <td>1</td>\n",
              "    </tr>\n",
              "    <tr>\n",
              "      <th>2</th>\n",
              "      <td>2018</td>\n",
              "      <td>03</td>\n",
              "      <td>2</td>\n",
              "    </tr>\n",
              "    <tr>\n",
              "      <th>3</th>\n",
              "      <td>2018</td>\n",
              "      <td>04</td>\n",
              "      <td>3</td>\n",
              "    </tr>\n",
              "    <tr>\n",
              "      <th>4</th>\n",
              "      <td>2018</td>\n",
              "      <td>05</td>\n",
              "      <td>4</td>\n",
              "    </tr>\n",
              "    <tr>\n",
              "      <th>5</th>\n",
              "      <td>2018</td>\n",
              "      <td>06</td>\n",
              "      <td>5</td>\n",
              "    </tr>\n",
              "    <tr>\n",
              "      <th>6</th>\n",
              "      <td>2018</td>\n",
              "      <td>07</td>\n",
              "      <td>6</td>\n",
              "    </tr>\n",
              "    <tr>\n",
              "      <th>7</th>\n",
              "      <td>2018</td>\n",
              "      <td>08</td>\n",
              "      <td>7</td>\n",
              "    </tr>\n",
              "    <tr>\n",
              "      <th>8</th>\n",
              "      <td>2018</td>\n",
              "      <td>09</td>\n",
              "      <td>8</td>\n",
              "    </tr>\n",
              "    <tr>\n",
              "      <th>9</th>\n",
              "      <td>2018</td>\n",
              "      <td>10</td>\n",
              "      <td>9</td>\n",
              "    </tr>\n",
              "    <tr>\n",
              "      <th>10</th>\n",
              "      <td>2018</td>\n",
              "      <td>11</td>\n",
              "      <td>10</td>\n",
              "    </tr>\n",
              "    <tr>\n",
              "      <th>11</th>\n",
              "      <td>2018</td>\n",
              "      <td>12</td>\n",
              "      <td>11</td>\n",
              "    </tr>\n",
              "    <tr>\n",
              "      <th>12</th>\n",
              "      <td>2019</td>\n",
              "      <td>01</td>\n",
              "      <td>12</td>\n",
              "    </tr>\n",
              "    <tr>\n",
              "      <th>13</th>\n",
              "      <td>2019</td>\n",
              "      <td>02</td>\n",
              "      <td>13</td>\n",
              "    </tr>\n",
              "    <tr>\n",
              "      <th>14</th>\n",
              "      <td>2019</td>\n",
              "      <td>03</td>\n",
              "      <td>14</td>\n",
              "    </tr>\n",
              "    <tr>\n",
              "      <th>15</th>\n",
              "      <td>2019</td>\n",
              "      <td>04</td>\n",
              "      <td>15</td>\n",
              "    </tr>\n",
              "    <tr>\n",
              "      <th>16</th>\n",
              "      <td>2019</td>\n",
              "      <td>05</td>\n",
              "      <td>16</td>\n",
              "    </tr>\n",
              "    <tr>\n",
              "      <th>17</th>\n",
              "      <td>2019</td>\n",
              "      <td>06</td>\n",
              "      <td>17</td>\n",
              "    </tr>\n",
              "    <tr>\n",
              "      <th>18</th>\n",
              "      <td>2019</td>\n",
              "      <td>07</td>\n",
              "      <td>18</td>\n",
              "    </tr>\n",
              "    <tr>\n",
              "      <th>19</th>\n",
              "      <td>2019</td>\n",
              "      <td>08</td>\n",
              "      <td>19</td>\n",
              "    </tr>\n",
              "    <tr>\n",
              "      <th>20</th>\n",
              "      <td>2019</td>\n",
              "      <td>09</td>\n",
              "      <td>20</td>\n",
              "    </tr>\n",
              "    <tr>\n",
              "      <th>21</th>\n",
              "      <td>2019</td>\n",
              "      <td>10</td>\n",
              "      <td>21</td>\n",
              "    </tr>\n",
              "    <tr>\n",
              "      <th>22</th>\n",
              "      <td>2019</td>\n",
              "      <td>12</td>\n",
              "      <td>23</td>\n",
              "    </tr>\n",
              "  </tbody>\n",
              "</table>\n",
              "</div>"
            ],
            "text/plain": [
              "       年   月  月ブロック\n",
              "0   2018  01      0\n",
              "1   2018  02      1\n",
              "2   2018  03      2\n",
              "3   2018  04      3\n",
              "4   2018  05      4\n",
              "5   2018  06      5\n",
              "6   2018  07      6\n",
              "7   2018  08      7\n",
              "8   2018  09      8\n",
              "9   2018  10      9\n",
              "10  2018  11     10\n",
              "11  2018  12     11\n",
              "12  2019  01     12\n",
              "13  2019  02     13\n",
              "14  2019  03     14\n",
              "15  2019  04     15\n",
              "16  2019  05     16\n",
              "17  2019  06     17\n",
              "18  2019  07     18\n",
              "19  2019  08     19\n",
              "20  2019  09     20\n",
              "21  2019  10     21\n",
              "22  2019  12     23"
            ]
          },
          "metadata": {},
          "execution_count": 130
        }
      ]
    },
    {
      "cell_type": "code",
      "metadata": {
        "scrolled": true,
        "colab": {
          "base_uri": "https://localhost:8080/",
          "height": 419
        },
        "id": "BTZORrfzBZny",
        "outputId": "a8cfe916-f3eb-455c-ad6a-c3884119d424"
      },
      "source": [
        "# 「月ブロック」カラムをsalesに統合する\n",
        "sales = pd.merge(sales, gp_time, on=['年', '月'], how='left')\n",
        "sales"
      ],
      "execution_count": null,
      "outputs": [
        {
          "output_type": "execute_result",
          "data": {
            "text/html": [
              "<div>\n",
              "<style scoped>\n",
              "    .dataframe tbody tr th:only-of-type {\n",
              "        vertical-align: middle;\n",
              "    }\n",
              "\n",
              "    .dataframe tbody tr th {\n",
              "        vertical-align: top;\n",
              "    }\n",
              "\n",
              "    .dataframe thead th {\n",
              "        text-align: right;\n",
              "    }\n",
              "</style>\n",
              "<table border=\"1\" class=\"dataframe\">\n",
              "  <thead>\n",
              "    <tr style=\"text-align: right;\">\n",
              "      <th></th>\n",
              "      <th>日付</th>\n",
              "      <th>店舗ID</th>\n",
              "      <th>商品ID</th>\n",
              "      <th>商品価格</th>\n",
              "      <th>売上個数</th>\n",
              "      <th>年</th>\n",
              "      <th>月</th>\n",
              "      <th>月ブロック</th>\n",
              "    </tr>\n",
              "  </thead>\n",
              "  <tbody>\n",
              "    <tr>\n",
              "      <th>0</th>\n",
              "      <td>2018-01-01</td>\n",
              "      <td>9</td>\n",
              "      <td>1000001</td>\n",
              "      <td>420</td>\n",
              "      <td>1.0</td>\n",
              "      <td>2018</td>\n",
              "      <td>01</td>\n",
              "      <td>0</td>\n",
              "    </tr>\n",
              "    <tr>\n",
              "      <th>1</th>\n",
              "      <td>2018-01-01</td>\n",
              "      <td>6</td>\n",
              "      <td>1000001</td>\n",
              "      <td>420</td>\n",
              "      <td>1.0</td>\n",
              "      <td>2018</td>\n",
              "      <td>01</td>\n",
              "      <td>0</td>\n",
              "    </tr>\n",
              "    <tr>\n",
              "      <th>2</th>\n",
              "      <td>2018-01-01</td>\n",
              "      <td>10</td>\n",
              "      <td>1000001</td>\n",
              "      <td>420</td>\n",
              "      <td>1.0</td>\n",
              "      <td>2018</td>\n",
              "      <td>01</td>\n",
              "      <td>0</td>\n",
              "    </tr>\n",
              "    <tr>\n",
              "      <th>3</th>\n",
              "      <td>2018-01-01</td>\n",
              "      <td>0</td>\n",
              "      <td>1000017</td>\n",
              "      <td>250</td>\n",
              "      <td>1.0</td>\n",
              "      <td>2018</td>\n",
              "      <td>01</td>\n",
              "      <td>0</td>\n",
              "    </tr>\n",
              "    <tr>\n",
              "      <th>4</th>\n",
              "      <td>2018-01-01</td>\n",
              "      <td>1</td>\n",
              "      <td>1000017</td>\n",
              "      <td>250</td>\n",
              "      <td>1.0</td>\n",
              "      <td>2018</td>\n",
              "      <td>01</td>\n",
              "      <td>0</td>\n",
              "    </tr>\n",
              "    <tr>\n",
              "      <th>...</th>\n",
              "      <td>...</td>\n",
              "      <td>...</td>\n",
              "      <td>...</td>\n",
              "      <td>...</td>\n",
              "      <td>...</td>\n",
              "      <td>...</td>\n",
              "      <td>...</td>\n",
              "      <td>...</td>\n",
              "    </tr>\n",
              "    <tr>\n",
              "      <th>1119565</th>\n",
              "      <td>2019-10-31</td>\n",
              "      <td>8</td>\n",
              "      <td>3400006</td>\n",
              "      <td>2700</td>\n",
              "      <td>1.0</td>\n",
              "      <td>2019</td>\n",
              "      <td>10</td>\n",
              "      <td>21</td>\n",
              "    </tr>\n",
              "    <tr>\n",
              "      <th>1119566</th>\n",
              "      <td>2019-10-31</td>\n",
              "      <td>7</td>\n",
              "      <td>3400009</td>\n",
              "      <td>1020</td>\n",
              "      <td>1.0</td>\n",
              "      <td>2019</td>\n",
              "      <td>10</td>\n",
              "      <td>21</td>\n",
              "    </tr>\n",
              "    <tr>\n",
              "      <th>1119567</th>\n",
              "      <td>2019-10-31</td>\n",
              "      <td>7</td>\n",
              "      <td>3400012</td>\n",
              "      <td>510</td>\n",
              "      <td>1.0</td>\n",
              "      <td>2019</td>\n",
              "      <td>10</td>\n",
              "      <td>21</td>\n",
              "    </tr>\n",
              "    <tr>\n",
              "      <th>1119568</th>\n",
              "      <td>2019-10-31</td>\n",
              "      <td>4</td>\n",
              "      <td>3500001</td>\n",
              "      <td>340</td>\n",
              "      <td>1.0</td>\n",
              "      <td>2019</td>\n",
              "      <td>10</td>\n",
              "      <td>21</td>\n",
              "    </tr>\n",
              "    <tr>\n",
              "      <th>1119569</th>\n",
              "      <td>2019-10-31</td>\n",
              "      <td>13</td>\n",
              "      <td>3500004</td>\n",
              "      <td>420</td>\n",
              "      <td>1.0</td>\n",
              "      <td>2019</td>\n",
              "      <td>10</td>\n",
              "      <td>21</td>\n",
              "    </tr>\n",
              "  </tbody>\n",
              "</table>\n",
              "<p>1119570 rows × 8 columns</p>\n",
              "</div>"
            ],
            "text/plain": [
              "                 日付  店舗ID     商品ID  商品価格  売上個数     年   月  月ブロック\n",
              "0        2018-01-01     9  1000001   420   1.0  2018  01      0\n",
              "1        2018-01-01     6  1000001   420   1.0  2018  01      0\n",
              "2        2018-01-01    10  1000001   420   1.0  2018  01      0\n",
              "3        2018-01-01     0  1000017   250   1.0  2018  01      0\n",
              "4        2018-01-01     1  1000017   250   1.0  2018  01      0\n",
              "...             ...   ...      ...   ...   ...   ...  ..    ...\n",
              "1119565  2019-10-31     8  3400006  2700   1.0  2019  10     21\n",
              "1119566  2019-10-31     7  3400009  1020   1.0  2019  10     21\n",
              "1119567  2019-10-31     7  3400012   510   1.0  2019  10     21\n",
              "1119568  2019-10-31     4  3500001   340   1.0  2019  10     21\n",
              "1119569  2019-10-31    13  3500004   420   1.0  2019  10     21\n",
              "\n",
              "[1119570 rows x 8 columns]"
            ]
          },
          "metadata": {},
          "execution_count": 131
        }
      ]
    },
    {
      "cell_type": "markdown",
      "metadata": {
        "id": "AWJbMdkBBZny"
      },
      "source": [
        "### 月単位の売上個数を集計する(「全商品・店舗」): pandas.DataFrame.groupby()\n",
        "\n",
        "最後に、月ごとの商品売上個数を確かめるため、月単位の売上個数を集計する"
      ]
    },
    {
      "cell_type": "code",
      "metadata": {
        "colab": {
          "base_uri": "https://localhost:8080/",
          "height": 204
        },
        "id": "L1Q0RvOXBZnz",
        "outputId": "14b731ed-16f4-4586-80b0-cd6da998e054"
      },
      "source": [
        "sales_month = sales.groupby('月ブロック').agg({'売上個数': np.sum}).reset_index()\n",
        "sales_month.head()"
      ],
      "execution_count": null,
      "outputs": [
        {
          "output_type": "execute_result",
          "data": {
            "text/html": [
              "<div>\n",
              "<style scoped>\n",
              "    .dataframe tbody tr th:only-of-type {\n",
              "        vertical-align: middle;\n",
              "    }\n",
              "\n",
              "    .dataframe tbody tr th {\n",
              "        vertical-align: top;\n",
              "    }\n",
              "\n",
              "    .dataframe thead th {\n",
              "        text-align: right;\n",
              "    }\n",
              "</style>\n",
              "<table border=\"1\" class=\"dataframe\">\n",
              "  <thead>\n",
              "    <tr style=\"text-align: right;\">\n",
              "      <th></th>\n",
              "      <th>月ブロック</th>\n",
              "      <th>売上個数</th>\n",
              "    </tr>\n",
              "  </thead>\n",
              "  <tbody>\n",
              "    <tr>\n",
              "      <th>0</th>\n",
              "      <td>0</td>\n",
              "      <td>69027.0</td>\n",
              "    </tr>\n",
              "    <tr>\n",
              "      <th>1</th>\n",
              "      <td>1</td>\n",
              "      <td>67740.0</td>\n",
              "    </tr>\n",
              "    <tr>\n",
              "      <th>2</th>\n",
              "      <td>2</td>\n",
              "      <td>77767.0</td>\n",
              "    </tr>\n",
              "    <tr>\n",
              "      <th>3</th>\n",
              "      <td>3</td>\n",
              "      <td>55991.0</td>\n",
              "    </tr>\n",
              "    <tr>\n",
              "      <th>4</th>\n",
              "      <td>4</td>\n",
              "      <td>53425.0</td>\n",
              "    </tr>\n",
              "  </tbody>\n",
              "</table>\n",
              "</div>"
            ],
            "text/plain": [
              "   月ブロック     売上個数\n",
              "0      0  69027.0\n",
              "1      1  67740.0\n",
              "2      2  77767.0\n",
              "3      3  55991.0\n",
              "4      4  53425.0"
            ]
          },
          "metadata": {},
          "execution_count": 132
        }
      ]
    },
    {
      "cell_type": "code",
      "metadata": {
        "colab": {
          "base_uri": "https://localhost:8080/",
          "height": 282
        },
        "id": "wbJ2yd7ZBZnz",
        "outputId": "13f3445b-785c-4f5b-e7f6-bb623555a3a2"
      },
      "source": [
        "plt.bar(sales_month['月ブロック'], sales_month['売上個数'])"
      ],
      "execution_count": null,
      "outputs": [
        {
          "output_type": "execute_result",
          "data": {
            "text/plain": [
              "<BarContainer object of 22 artists>"
            ]
          },
          "metadata": {},
          "execution_count": 133
        },
        {
          "output_type": "display_data",
          "data": {
            "image/png": "[encoded data removed]",
            "text/plain": [
              "<Figure size 432x288 with 1 Axes>"
            ]
          },
          "metadata": {
            "needs_background": "light"
          }
        }
      ]
    },
    {
      "cell_type": "markdown",
      "metadata": {
        "id": "38I-HHj3BZnz"
      },
      "source": [
        "12月(月ブロック:11)の売上個数が非常に多い傾向にあることがわかる。"
      ]
    },
    {
      "cell_type": "markdown",
      "metadata": {
        "id": "ag58gOS6BZnz"
      },
      "source": [
        "# 3. 前処理"
      ]
    },
    {
      "cell_type": "markdown",
      "metadata": {
        "id": "4RtqUetJBZn0"
      },
      "source": [
        "### 月ごとの売上を集計する(「商品ID」×「店舗ID」)\n",
        "\n",
        "ここからは、モデルの学習を行うためのデータセットの作成作業に入る。<br>\n",
        "『各店舗』×『各商品』の組み合わせについて、『2019年12月の1ヶ月間』における『合計売上個数』を予測する<br>\n",
        "というのが今回のタスクであるため、学習用データをそれに従って再構成する。"
      ]
    },
    {
      "cell_type": "code",
      "metadata": {
        "colab": {
          "base_uri": "https://localhost:8080/",
          "height": 419
        },
        "id": "AiineuQnBZn0",
        "outputId": "0b62cfe8-9f41-4081-fd64-fffd463b17bf"
      },
      "source": [
        "# 「月ブロック」「商品ID」「店舗ID」でグルーピングし、売上個数の合計を取る\n",
        "gp_month = sales.groupby(['月ブロック',  '商品ID', '店舗ID']).agg({'売上個数': np.sum}).reset_index()\n",
        "gp_month"
      ],
      "execution_count": null,
      "outputs": [
        {
          "output_type": "execute_result",
          "data": {
            "text/html": [
              "<div>\n",
              "<style scoped>\n",
              "    .dataframe tbody tr th:only-of-type {\n",
              "        vertical-align: middle;\n",
              "    }\n",
              "\n",
              "    .dataframe tbody tr th {\n",
              "        vertical-align: top;\n",
              "    }\n",
              "\n",
              "    .dataframe thead th {\n",
              "        text-align: right;\n",
              "    }\n",
              "</style>\n",
              "<table border=\"1\" class=\"dataframe\">\n",
              "  <thead>\n",
              "    <tr style=\"text-align: right;\">\n",
              "      <th></th>\n",
              "      <th>月ブロック</th>\n",
              "      <th>商品ID</th>\n",
              "      <th>店舗ID</th>\n",
              "      <th>売上個数</th>\n",
              "    </tr>\n",
              "  </thead>\n",
              "  <tbody>\n",
              "    <tr>\n",
              "      <th>0</th>\n",
              "      <td>0</td>\n",
              "      <td>1000001</td>\n",
              "      <td>0</td>\n",
              "      <td>6.0</td>\n",
              "    </tr>\n",
              "    <tr>\n",
              "      <th>1</th>\n",
              "      <td>0</td>\n",
              "      <td>1000001</td>\n",
              "      <td>1</td>\n",
              "      <td>2.0</td>\n",
              "    </tr>\n",
              "    <tr>\n",
              "      <th>2</th>\n",
              "      <td>0</td>\n",
              "      <td>1000001</td>\n",
              "      <td>2</td>\n",
              "      <td>1.0</td>\n",
              "    </tr>\n",
              "    <tr>\n",
              "      <th>3</th>\n",
              "      <td>0</td>\n",
              "      <td>1000001</td>\n",
              "      <td>3</td>\n",
              "      <td>2.0</td>\n",
              "    </tr>\n",
              "    <tr>\n",
              "      <th>4</th>\n",
              "      <td>0</td>\n",
              "      <td>1000001</td>\n",
              "      <td>5</td>\n",
              "      <td>2.0</td>\n",
              "    </tr>\n",
              "    <tr>\n",
              "      <th>...</th>\n",
              "      <td>...</td>\n",
              "      <td>...</td>\n",
              "      <td>...</td>\n",
              "      <td>...</td>\n",
              "    </tr>\n",
              "    <tr>\n",
              "      <th>495129</th>\n",
              "      <td>21</td>\n",
              "      <td>3500070</td>\n",
              "      <td>16</td>\n",
              "      <td>1.0</td>\n",
              "    </tr>\n",
              "    <tr>\n",
              "      <th>495130</th>\n",
              "      <td>21</td>\n",
              "      <td>3500071</td>\n",
              "      <td>13</td>\n",
              "      <td>1.0</td>\n",
              "    </tr>\n",
              "    <tr>\n",
              "      <th>495131</th>\n",
              "      <td>21</td>\n",
              "      <td>3500072</td>\n",
              "      <td>2</td>\n",
              "      <td>1.0</td>\n",
              "    </tr>\n",
              "    <tr>\n",
              "      <th>495132</th>\n",
              "      <td>21</td>\n",
              "      <td>3500072</td>\n",
              "      <td>16</td>\n",
              "      <td>1.0</td>\n",
              "    </tr>\n",
              "    <tr>\n",
              "      <th>495133</th>\n",
              "      <td>21</td>\n",
              "      <td>3500073</td>\n",
              "      <td>17</td>\n",
              "      <td>1.0</td>\n",
              "    </tr>\n",
              "  </tbody>\n",
              "</table>\n",
              "<p>495134 rows × 4 columns</p>\n",
              "</div>"
            ],
            "text/plain": [
              "        月ブロック     商品ID  店舗ID  売上個数\n",
              "0           0  1000001     0   6.0\n",
              "1           0  1000001     1   2.0\n",
              "2           0  1000001     2   1.0\n",
              "3           0  1000001     3   2.0\n",
              "4           0  1000001     5   2.0\n",
              "...       ...      ...   ...   ...\n",
              "495129     21  3500070    16   1.0\n",
              "495130     21  3500071    13   1.0\n",
              "495131     21  3500072     2   1.0\n",
              "495132     21  3500072    16   1.0\n",
              "495133     21  3500073    17   1.0\n",
              "\n",
              "[495134 rows x 4 columns]"
            ]
          },
          "metadata": {},
          "execution_count": 134
        }
      ]
    },
    {
      "cell_type": "markdown",
      "metadata": {
        "id": "zeZogiLgBZn0"
      },
      "source": [
        "### 「'月'、'商品ID'、 '店舗ID'」の全組み合わせを作成する\n",
        "\n",
        "salesデータには、売上が0個の場合の履歴が含まれていない。<br>\n",
        "そのため、モデルに『売上が0個となる』場合を正しく学習させるには、新たにデータを生成する必要がある。<br>\n",
        "ここでは、「月」×「商品ID」×「店舗ID」の組み合わせを生成し、元のデータと統合することで、『売上が0個となる』場合も含めた売上履歴データの生成を試みる。"
      ]
    },
    {
      "cell_type": "code",
      "metadata": {
        "colab": {
          "base_uri": "https://localhost:8080/",
          "height": 606
        },
        "id": "Bxd9dza5BZn0",
        "outputId": "5e2e6ddc-80cc-492c-e7c0-c6aa06a0ad03"
      },
      "source": [
        "all_combination = []\n",
        "\n",
        "# '月'、'商品ID'、 '店舗ID'の全組み合わせを作成する\n",
        "columns = ['月ブロック', '商品ID', '店舗ID']\n",
        "\n",
        "for i in range(22):\n",
        "    train_block = sales[sales['月ブロック']==i]\n",
        "    all_combination.append(np.array(list(product([i], train_block['商品ID'].unique(), train_block['店舗ID'].unique()))))\n",
        "    \n",
        "all_combination = pd.DataFrame(np.vstack(all_combination), columns=columns)\n",
        "all_combination.sort_values(columns, inplace=True)\n",
        "\n",
        "print(all_combination.info())\n",
        "all_combination"
      ],
      "execution_count": null,
      "outputs": [
        {
          "output_type": "stream",
          "name": "stdout",
          "text": [
            "<class 'pandas.core.frame.DataFrame'>\n",
            "Int64Index: 1648926 entries, 3 to 1644693\n",
            "Data columns (total 3 columns):\n",
            " #   Column  Non-Null Count    Dtype\n",
            "---  ------  --------------    -----\n",
            " 0   月ブロック   1648926 non-null  int64\n",
            " 1   商品ID    1648926 non-null  int64\n",
            " 2   店舗ID    1648926 non-null  int64\n",
            "dtypes: int64(3)\n",
            "memory usage: 50.3 MB\n",
            "None\n"
          ]
        },
        {
          "output_type": "execute_result",
          "data": {
            "text/html": [
              "<div>\n",
              "<style scoped>\n",
              "    .dataframe tbody tr th:only-of-type {\n",
              "        vertical-align: middle;\n",
              "    }\n",
              "\n",
              "    .dataframe tbody tr th {\n",
              "        vertical-align: top;\n",
              "    }\n",
              "\n",
              "    .dataframe thead th {\n",
              "        text-align: right;\n",
              "    }\n",
              "</style>\n",
              "<table border=\"1\" class=\"dataframe\">\n",
              "  <thead>\n",
              "    <tr style=\"text-align: right;\">\n",
              "      <th></th>\n",
              "      <th>月ブロック</th>\n",
              "      <th>商品ID</th>\n",
              "      <th>店舗ID</th>\n",
              "    </tr>\n",
              "  </thead>\n",
              "  <tbody>\n",
              "    <tr>\n",
              "      <th>3</th>\n",
              "      <td>0</td>\n",
              "      <td>1000001</td>\n",
              "      <td>0</td>\n",
              "    </tr>\n",
              "    <tr>\n",
              "      <th>4</th>\n",
              "      <td>0</td>\n",
              "      <td>1000001</td>\n",
              "      <td>1</td>\n",
              "    </tr>\n",
              "    <tr>\n",
              "      <th>7</th>\n",
              "      <td>0</td>\n",
              "      <td>1000001</td>\n",
              "      <td>2</td>\n",
              "    </tr>\n",
              "    <tr>\n",
              "      <th>15</th>\n",
              "      <td>0</td>\n",
              "      <td>1000001</td>\n",
              "      <td>3</td>\n",
              "    </tr>\n",
              "    <tr>\n",
              "      <th>16</th>\n",
              "      <td>0</td>\n",
              "      <td>1000001</td>\n",
              "      <td>4</td>\n",
              "    </tr>\n",
              "    <tr>\n",
              "      <th>...</th>\n",
              "      <td>...</td>\n",
              "      <td>...</td>\n",
              "      <td>...</td>\n",
              "    </tr>\n",
              "    <tr>\n",
              "      <th>1644680</th>\n",
              "      <td>21</td>\n",
              "      <td>3500073</td>\n",
              "      <td>13</td>\n",
              "    </tr>\n",
              "    <tr>\n",
              "      <th>1644694</th>\n",
              "      <td>21</td>\n",
              "      <td>3500073</td>\n",
              "      <td>14</td>\n",
              "    </tr>\n",
              "    <tr>\n",
              "      <th>1644679</th>\n",
              "      <td>21</td>\n",
              "      <td>3500073</td>\n",
              "      <td>15</td>\n",
              "    </tr>\n",
              "    <tr>\n",
              "      <th>1644685</th>\n",
              "      <td>21</td>\n",
              "      <td>3500073</td>\n",
              "      <td>16</td>\n",
              "    </tr>\n",
              "    <tr>\n",
              "      <th>1644693</th>\n",
              "      <td>21</td>\n",
              "      <td>3500073</td>\n",
              "      <td>17</td>\n",
              "    </tr>\n",
              "  </tbody>\n",
              "</table>\n",
              "<p>1648926 rows × 3 columns</p>\n",
              "</div>"
            ],
            "text/plain": [
              "         月ブロック     商品ID  店舗ID\n",
              "3            0  1000001     0\n",
              "4            0  1000001     1\n",
              "7            0  1000001     2\n",
              "15           0  1000001     3\n",
              "16           0  1000001     4\n",
              "...        ...      ...   ...\n",
              "1644680     21  3500073    13\n",
              "1644694     21  3500073    14\n",
              "1644679     21  3500073    15\n",
              "1644685     21  3500073    16\n",
              "1644693     21  3500073    17\n",
              "\n",
              "[1648926 rows x 3 columns]"
            ]
          },
          "metadata": {},
          "execution_count": 135
        }
      ]
    },
    {
      "cell_type": "code",
      "metadata": {
        "colab": {
          "base_uri": "https://localhost:8080/",
          "height": 419
        },
        "id": "_Y3_Z0tTBZn1",
        "outputId": "abdcd3ea-7a12-425a-b580-0a4ad73d6ed2"
      },
      "source": [
        "# all_combinationに売上履歴データを追加する\n",
        "all_train = pd.merge(all_combination, gp_month, on=['月ブロック', '商品ID', '店舗ID'], how='left')\n",
        "\n",
        "# 売上個数がNaNとなっている箇所は、売上個数0個として値を埋める\n",
        "all_train['売上個数'] = all_train['売上個数'].fillna(0)\n",
        "\n",
        "all_train"
      ],
      "execution_count": null,
      "outputs": [
        {
          "output_type": "execute_result",
          "data": {
            "text/html": [
              "<div>\n",
              "<style scoped>\n",
              "    .dataframe tbody tr th:only-of-type {\n",
              "        vertical-align: middle;\n",
              "    }\n",
              "\n",
              "    .dataframe tbody tr th {\n",
              "        vertical-align: top;\n",
              "    }\n",
              "\n",
              "    .dataframe thead th {\n",
              "        text-align: right;\n",
              "    }\n",
              "</style>\n",
              "<table border=\"1\" class=\"dataframe\">\n",
              "  <thead>\n",
              "    <tr style=\"text-align: right;\">\n",
              "      <th></th>\n",
              "      <th>月ブロック</th>\n",
              "      <th>商品ID</th>\n",
              "      <th>店舗ID</th>\n",
              "      <th>売上個数</th>\n",
              "    </tr>\n",
              "  </thead>\n",
              "  <tbody>\n",
              "    <tr>\n",
              "      <th>0</th>\n",
              "      <td>0</td>\n",
              "      <td>1000001</td>\n",
              "      <td>0</td>\n",
              "      <td>6.0</td>\n",
              "    </tr>\n",
              "    <tr>\n",
              "      <th>1</th>\n",
              "      <td>0</td>\n",
              "      <td>1000001</td>\n",
              "      <td>1</td>\n",
              "      <td>2.0</td>\n",
              "    </tr>\n",
              "    <tr>\n",
              "      <th>2</th>\n",
              "      <td>0</td>\n",
              "      <td>1000001</td>\n",
              "      <td>2</td>\n",
              "      <td>1.0</td>\n",
              "    </tr>\n",
              "    <tr>\n",
              "      <th>3</th>\n",
              "      <td>0</td>\n",
              "      <td>1000001</td>\n",
              "      <td>3</td>\n",
              "      <td>2.0</td>\n",
              "    </tr>\n",
              "    <tr>\n",
              "      <th>4</th>\n",
              "      <td>0</td>\n",
              "      <td>1000001</td>\n",
              "      <td>4</td>\n",
              "      <td>0.0</td>\n",
              "    </tr>\n",
              "    <tr>\n",
              "      <th>...</th>\n",
              "      <td>...</td>\n",
              "      <td>...</td>\n",
              "      <td>...</td>\n",
              "      <td>...</td>\n",
              "    </tr>\n",
              "    <tr>\n",
              "      <th>1648921</th>\n",
              "      <td>21</td>\n",
              "      <td>3500073</td>\n",
              "      <td>13</td>\n",
              "      <td>0.0</td>\n",
              "    </tr>\n",
              "    <tr>\n",
              "      <th>1648922</th>\n",
              "      <td>21</td>\n",
              "      <td>3500073</td>\n",
              "      <td>14</td>\n",
              "      <td>0.0</td>\n",
              "    </tr>\n",
              "    <tr>\n",
              "      <th>1648923</th>\n",
              "      <td>21</td>\n",
              "      <td>3500073</td>\n",
              "      <td>15</td>\n",
              "      <td>0.0</td>\n",
              "    </tr>\n",
              "    <tr>\n",
              "      <th>1648924</th>\n",
              "      <td>21</td>\n",
              "      <td>3500073</td>\n",
              "      <td>16</td>\n",
              "      <td>0.0</td>\n",
              "    </tr>\n",
              "    <tr>\n",
              "      <th>1648925</th>\n",
              "      <td>21</td>\n",
              "      <td>3500073</td>\n",
              "      <td>17</td>\n",
              "      <td>1.0</td>\n",
              "    </tr>\n",
              "  </tbody>\n",
              "</table>\n",
              "<p>1648926 rows × 4 columns</p>\n",
              "</div>"
            ],
            "text/plain": [
              "         月ブロック     商品ID  店舗ID  売上個数\n",
              "0            0  1000001     0   6.0\n",
              "1            0  1000001     1   2.0\n",
              "2            0  1000001     2   1.0\n",
              "3            0  1000001     3   2.0\n",
              "4            0  1000001     4   0.0\n",
              "...        ...      ...   ...   ...\n",
              "1648921     21  3500073    13   0.0\n",
              "1648922     21  3500073    14   0.0\n",
              "1648923     21  3500073    15   0.0\n",
              "1648924     21  3500073    16   0.0\n",
              "1648925     21  3500073    17   1.0\n",
              "\n",
              "[1648926 rows x 4 columns]"
            ]
          },
          "metadata": {},
          "execution_count": 136
        }
      ]
    },
    {
      "cell_type": "markdown",
      "metadata": {
        "id": "xBjRtOm_BZn1"
      },
      "source": [
        "### testデータにカラムを追加する"
      ]
    },
    {
      "cell_type": "code",
      "metadata": {
        "colab": {
          "base_uri": "https://localhost:8080/",
          "height": 204
        },
        "id": "34s6UT-mBZn1",
        "outputId": "0c3ba335-48cc-4f85-c348-ac7ac6938135"
      },
      "source": [
        "new_test = test.copy()\n",
        "\n",
        "# 評価対象期間が2019年12月(月ブロック: 23)であるという情報を追加\n",
        "new_test['月ブロック'] = 23\n",
        "\n",
        "new_test.head()"
      ],
      "execution_count": null,
      "outputs": [
        {
          "output_type": "execute_result",
          "data": {
            "text/html": [
              "<div>\n",
              "<style scoped>\n",
              "    .dataframe tbody tr th:only-of-type {\n",
              "        vertical-align: middle;\n",
              "    }\n",
              "\n",
              "    .dataframe tbody tr th {\n",
              "        vertical-align: top;\n",
              "    }\n",
              "\n",
              "    .dataframe thead th {\n",
              "        text-align: right;\n",
              "    }\n",
              "</style>\n",
              "<table border=\"1\" class=\"dataframe\">\n",
              "  <thead>\n",
              "    <tr style=\"text-align: right;\">\n",
              "      <th></th>\n",
              "      <th>index</th>\n",
              "      <th>商品ID</th>\n",
              "      <th>店舗ID</th>\n",
              "      <th>月ブロック</th>\n",
              "    </tr>\n",
              "  </thead>\n",
              "  <tbody>\n",
              "    <tr>\n",
              "      <th>0</th>\n",
              "      <td>0</td>\n",
              "      <td>1000001</td>\n",
              "      <td>0</td>\n",
              "      <td>23</td>\n",
              "    </tr>\n",
              "    <tr>\n",
              "      <th>1</th>\n",
              "      <td>1</td>\n",
              "      <td>1000001</td>\n",
              "      <td>1</td>\n",
              "      <td>23</td>\n",
              "    </tr>\n",
              "    <tr>\n",
              "      <th>2</th>\n",
              "      <td>2</td>\n",
              "      <td>1000001</td>\n",
              "      <td>2</td>\n",
              "      <td>23</td>\n",
              "    </tr>\n",
              "    <tr>\n",
              "      <th>3</th>\n",
              "      <td>3</td>\n",
              "      <td>1000001</td>\n",
              "      <td>3</td>\n",
              "      <td>23</td>\n",
              "    </tr>\n",
              "    <tr>\n",
              "      <th>4</th>\n",
              "      <td>4</td>\n",
              "      <td>1000001</td>\n",
              "      <td>4</td>\n",
              "      <td>23</td>\n",
              "    </tr>\n",
              "  </tbody>\n",
              "</table>\n",
              "</div>"
            ],
            "text/plain": [
              "   index     商品ID  店舗ID  月ブロック\n",
              "0      0  1000001     0     23\n",
              "1      1  1000001     1     23\n",
              "2      2  1000001     2     23\n",
              "3      3  1000001     3     23\n",
              "4      4  1000001     4     23"
            ]
          },
          "metadata": {},
          "execution_count": 137
        }
      ]
    },
    {
      "cell_type": "markdown",
      "metadata": {
        "id": "St2yoOZnBZn1"
      },
      "source": [
        "### 学習データとテストデータを縦に結合: pd.concat()"
      ]
    },
    {
      "cell_type": "code",
      "metadata": {
        "colab": {
          "base_uri": "https://localhost:8080/",
          "height": 419
        },
        "id": "jaIZbyMsBZn1",
        "outputId": "6b9081ea-b24b-413e-bf46-ad845a60b2d7"
      },
      "source": [
        "dataset = pd.concat([all_train, new_test])\n",
        "dataset = dataset.drop('index', axis=1)\n",
        "dataset"
      ],
      "execution_count": null,
      "outputs": [
        {
          "output_type": "execute_result",
          "data": {
            "text/html": [
              "<div>\n",
              "<style scoped>\n",
              "    .dataframe tbody tr th:only-of-type {\n",
              "        vertical-align: middle;\n",
              "    }\n",
              "\n",
              "    .dataframe tbody tr th {\n",
              "        vertical-align: top;\n",
              "    }\n",
              "\n",
              "    .dataframe thead th {\n",
              "        text-align: right;\n",
              "    }\n",
              "</style>\n",
              "<table border=\"1\" class=\"dataframe\">\n",
              "  <thead>\n",
              "    <tr style=\"text-align: right;\">\n",
              "      <th></th>\n",
              "      <th>月ブロック</th>\n",
              "      <th>商品ID</th>\n",
              "      <th>店舗ID</th>\n",
              "      <th>売上個数</th>\n",
              "    </tr>\n",
              "  </thead>\n",
              "  <tbody>\n",
              "    <tr>\n",
              "      <th>0</th>\n",
              "      <td>0</td>\n",
              "      <td>1000001</td>\n",
              "      <td>0</td>\n",
              "      <td>6.0</td>\n",
              "    </tr>\n",
              "    <tr>\n",
              "      <th>1</th>\n",
              "      <td>0</td>\n",
              "      <td>1000001</td>\n",
              "      <td>1</td>\n",
              "      <td>2.0</td>\n",
              "    </tr>\n",
              "    <tr>\n",
              "      <th>2</th>\n",
              "      <td>0</td>\n",
              "      <td>1000001</td>\n",
              "      <td>2</td>\n",
              "      <td>1.0</td>\n",
              "    </tr>\n",
              "    <tr>\n",
              "      <th>3</th>\n",
              "      <td>0</td>\n",
              "      <td>1000001</td>\n",
              "      <td>3</td>\n",
              "      <td>2.0</td>\n",
              "    </tr>\n",
              "    <tr>\n",
              "      <th>4</th>\n",
              "      <td>0</td>\n",
              "      <td>1000001</td>\n",
              "      <td>4</td>\n",
              "      <td>0.0</td>\n",
              "    </tr>\n",
              "    <tr>\n",
              "      <th>...</th>\n",
              "      <td>...</td>\n",
              "      <td>...</td>\n",
              "      <td>...</td>\n",
              "      <td>...</td>\n",
              "    </tr>\n",
              "    <tr>\n",
              "      <th>3055</th>\n",
              "      <td>23</td>\n",
              "      <td>3500001</td>\n",
              "      <td>13</td>\n",
              "      <td>NaN</td>\n",
              "    </tr>\n",
              "    <tr>\n",
              "      <th>3056</th>\n",
              "      <td>23</td>\n",
              "      <td>3500001</td>\n",
              "      <td>14</td>\n",
              "      <td>NaN</td>\n",
              "    </tr>\n",
              "    <tr>\n",
              "      <th>3057</th>\n",
              "      <td>23</td>\n",
              "      <td>3500001</td>\n",
              "      <td>15</td>\n",
              "      <td>NaN</td>\n",
              "    </tr>\n",
              "    <tr>\n",
              "      <th>3058</th>\n",
              "      <td>23</td>\n",
              "      <td>3500001</td>\n",
              "      <td>16</td>\n",
              "      <td>NaN</td>\n",
              "    </tr>\n",
              "    <tr>\n",
              "      <th>3059</th>\n",
              "      <td>23</td>\n",
              "      <td>3500001</td>\n",
              "      <td>17</td>\n",
              "      <td>NaN</td>\n",
              "    </tr>\n",
              "  </tbody>\n",
              "</table>\n",
              "<p>1651986 rows × 4 columns</p>\n",
              "</div>"
            ],
            "text/plain": [
              "      月ブロック     商品ID  店舗ID  売上個数\n",
              "0         0  1000001     0   6.0\n",
              "1         0  1000001     1   2.0\n",
              "2         0  1000001     2   1.0\n",
              "3         0  1000001     3   2.0\n",
              "4         0  1000001     4   0.0\n",
              "...     ...      ...   ...   ...\n",
              "3055     23  3500001    13   NaN\n",
              "3056     23  3500001    14   NaN\n",
              "3057     23  3500001    15   NaN\n",
              "3058     23  3500001    16   NaN\n",
              "3059     23  3500001    17   NaN\n",
              "\n",
              "[1651986 rows x 4 columns]"
            ]
          },
          "metadata": {},
          "execution_count": 138
        }
      ]
    },
    {
      "cell_type": "markdown",
      "metadata": {
        "id": "WfOhJtEYBZn2"
      },
      "source": [
        "予測対象である月ブロック23(2019年12月)における売上履歴は当然存在しないため値はNaNとなる"
      ]
    },
    {
      "cell_type": "markdown",
      "metadata": {
        "id": "NaZbzWXcBZn2"
      },
      "source": [
        "# 4. 特徴量生成\n",
        "- <font color=\"#FF0000\"><strong>【ポイント】予測モデルの精度向上の為には適切な特徴量を追加することが一つのポイントとなりますので、どんな特徴量を作るべきかを検討しましょう</strong></font>\n",
        "- こちらでは１年前の売上というラグ特徴量を紹介しています"
      ]
    },
    {
      "cell_type": "markdown",
      "metadata": {
        "id": "2viMzb93BZn2"
      },
      "source": [
        "### ラグ特徴量の作成\n",
        "\n",
        "昨年度同月の売上個数が今年度の売上個数の予測に役立つのではないかという仮説のもとに、ラグ特徴量を生成する<br>\n",
        "ここでは、月ブロックを1年分(12)ずらした上でデータを統合するという方法を取る。"
      ]
    },
    {
      "cell_type": "code",
      "metadata": {
        "colab": {
          "base_uri": "https://localhost:8080/",
          "height": 419
        },
        "id": "Igg5b7OSBZn2",
        "outputId": "987d07c9-dc2a-41ec-acbb-78b026bc02d1"
      },
      "source": [
        "lag = dataset.copy()\n",
        "    \n",
        "lag['月ブロック'] = lag['月ブロック'] + 12\n",
        "lag = lag.rename(columns={'売上個数': '12ヶ月前の売上個数'})\n",
        "lag"
      ],
      "execution_count": null,
      "outputs": [
        {
          "output_type": "execute_result",
          "data": {
            "text/html": [
              "<div>\n",
              "<style scoped>\n",
              "    .dataframe tbody tr th:only-of-type {\n",
              "        vertical-align: middle;\n",
              "    }\n",
              "\n",
              "    .dataframe tbody tr th {\n",
              "        vertical-align: top;\n",
              "    }\n",
              "\n",
              "    .dataframe thead th {\n",
              "        text-align: right;\n",
              "    }\n",
              "</style>\n",
              "<table border=\"1\" class=\"dataframe\">\n",
              "  <thead>\n",
              "    <tr style=\"text-align: right;\">\n",
              "      <th></th>\n",
              "      <th>月ブロック</th>\n",
              "      <th>商品ID</th>\n",
              "      <th>店舗ID</th>\n",
              "      <th>12ヶ月前の売上個数</th>\n",
              "    </tr>\n",
              "  </thead>\n",
              "  <tbody>\n",
              "    <tr>\n",
              "      <th>0</th>\n",
              "      <td>12</td>\n",
              "      <td>1000001</td>\n",
              "      <td>0</td>\n",
              "      <td>6.0</td>\n",
              "    </tr>\n",
              "    <tr>\n",
              "      <th>1</th>\n",
              "      <td>12</td>\n",
              "      <td>1000001</td>\n",
              "      <td>1</td>\n",
              "      <td>2.0</td>\n",
              "    </tr>\n",
              "    <tr>\n",
              "      <th>2</th>\n",
              "      <td>12</td>\n",
              "      <td>1000001</td>\n",
              "      <td>2</td>\n",
              "      <td>1.0</td>\n",
              "    </tr>\n",
              "    <tr>\n",
              "      <th>3</th>\n",
              "      <td>12</td>\n",
              "      <td>1000001</td>\n",
              "      <td>3</td>\n",
              "      <td>2.0</td>\n",
              "    </tr>\n",
              "    <tr>\n",
              "      <th>4</th>\n",
              "      <td>12</td>\n",
              "      <td>1000001</td>\n",
              "      <td>4</td>\n",
              "      <td>0.0</td>\n",
              "    </tr>\n",
              "    <tr>\n",
              "      <th>...</th>\n",
              "      <td>...</td>\n",
              "      <td>...</td>\n",
              "      <td>...</td>\n",
              "      <td>...</td>\n",
              "    </tr>\n",
              "    <tr>\n",
              "      <th>3055</th>\n",
              "      <td>35</td>\n",
              "      <td>3500001</td>\n",
              "      <td>13</td>\n",
              "      <td>NaN</td>\n",
              "    </tr>\n",
              "    <tr>\n",
              "      <th>3056</th>\n",
              "      <td>35</td>\n",
              "      <td>3500001</td>\n",
              "      <td>14</td>\n",
              "      <td>NaN</td>\n",
              "    </tr>\n",
              "    <tr>\n",
              "      <th>3057</th>\n",
              "      <td>35</td>\n",
              "      <td>3500001</td>\n",
              "      <td>15</td>\n",
              "      <td>NaN</td>\n",
              "    </tr>\n",
              "    <tr>\n",
              "      <th>3058</th>\n",
              "      <td>35</td>\n",
              "      <td>3500001</td>\n",
              "      <td>16</td>\n",
              "      <td>NaN</td>\n",
              "    </tr>\n",
              "    <tr>\n",
              "      <th>3059</th>\n",
              "      <td>35</td>\n",
              "      <td>3500001</td>\n",
              "      <td>17</td>\n",
              "      <td>NaN</td>\n",
              "    </tr>\n",
              "  </tbody>\n",
              "</table>\n",
              "<p>1651986 rows × 4 columns</p>\n",
              "</div>"
            ],
            "text/plain": [
              "      月ブロック     商品ID  店舗ID  12ヶ月前の売上個数\n",
              "0        12  1000001     0         6.0\n",
              "1        12  1000001     1         2.0\n",
              "2        12  1000001     2         1.0\n",
              "3        12  1000001     3         2.0\n",
              "4        12  1000001     4         0.0\n",
              "...     ...      ...   ...         ...\n",
              "3055     35  3500001    13         NaN\n",
              "3056     35  3500001    14         NaN\n",
              "3057     35  3500001    15         NaN\n",
              "3058     35  3500001    16         NaN\n",
              "3059     35  3500001    17         NaN\n",
              "\n",
              "[1651986 rows x 4 columns]"
            ]
          },
          "metadata": {},
          "execution_count": 139
        }
      ]
    },
    {
      "cell_type": "markdown",
      "metadata": {
        "id": "6rAF-CF-BZn2"
      },
      "source": [
        "### ラグ特徴量の追加"
      ]
    },
    {
      "cell_type": "code",
      "metadata": {
        "colab": {
          "base_uri": "https://localhost:8080/"
        },
        "id": "7-_ytYF5BZn2",
        "outputId": "3d552323-54ff-47ee-cde4-bd0b783f488c"
      },
      "source": [
        "dataset2 = pd.merge(dataset, lag, on=['月ブロック', '商品ID', '店舗ID'], how='left', left_index=True)\n",
        "print(dataset2.groupby('月ブロック').agg({'12ヶ月前の売上個数': 'count'}))"
      ],
      "execution_count": null,
      "outputs": [
        {
          "output_type": "stream",
          "name": "stdout",
          "text": [
            "       12ヶ月前の売上個数\n",
            "月ブロック            \n",
            "0               0\n",
            "1               0\n",
            "2               0\n",
            "3               0\n",
            "4               0\n",
            "5               0\n",
            "6               0\n",
            "7               0\n",
            "8               0\n",
            "9               0\n",
            "10              0\n",
            "11              0\n",
            "12          42354\n",
            "13          40356\n",
            "14          40122\n",
            "15          37296\n",
            "16          36216\n",
            "17          36774\n",
            "18          37746\n",
            "19          35406\n",
            "20          31392\n",
            "21          32508\n",
            "23           2700\n"
          ]
        }
      ]
    },
    {
      "cell_type": "markdown",
      "metadata": {
        "id": "HlsjCjuwBZn3"
      },
      "source": [
        "↑ 「月ブロック」0〜11のデータに該当するデータは、12ヶ月前の売上履歴が存在しないので、カラム「12ヶ月前の売上個数」すべて欠損値となる"
      ]
    },
    {
      "cell_type": "markdown",
      "metadata": {
        "id": "ctjM2ngLBZn3"
      },
      "source": [
        "### 「商品カテゴリ」「年・月」情報の追加"
      ]
    },
    {
      "cell_type": "code",
      "metadata": {
        "colab": {
          "base_uri": "https://localhost:8080/",
          "height": 476
        },
        "id": "f3_QUdLFBZn3",
        "outputId": "be66a1cb-b1b2-44c0-b7b3-309f658272ed"
      },
      "source": [
        "dataset3 = pd.merge(dataset2, cats, on='商品ID', how='left')\n",
        "dataset3 = pd.merge(dataset3, gp_time, on='月ブロック', how='left')\n",
        "\n",
        "print(dataset3.info())\n",
        "dataset3.head()"
      ],
      "execution_count": null,
      "outputs": [
        {
          "output_type": "stream",
          "name": "stdout",
          "text": [
            "<class 'pandas.core.frame.DataFrame'>\n",
            "Int64Index: 1651986 entries, 0 to 1651985\n",
            "Data columns (total 8 columns):\n",
            " #   Column      Non-Null Count    Dtype  \n",
            "---  ------      --------------    -----  \n",
            " 0   月ブロック       1651986 non-null  int64  \n",
            " 1   商品ID        1651986 non-null  int64  \n",
            " 2   店舗ID        1651986 non-null  int64  \n",
            " 3   売上個数        1648926 non-null  float64\n",
            " 4   12ヶ月前の売上個数  372870 non-null   float64\n",
            " 5   商品カテゴリID    1651986 non-null  int64  \n",
            " 6   年           1651986 non-null  object \n",
            " 7   月           1651986 non-null  object \n",
            "dtypes: float64(2), int64(4), object(2)\n",
            "memory usage: 113.4+ MB\n",
            "None\n"
          ]
        },
        {
          "output_type": "execute_result",
          "data": {
            "text/html": [
              "<div>\n",
              "<style scoped>\n",
              "    .dataframe tbody tr th:only-of-type {\n",
              "        vertical-align: middle;\n",
              "    }\n",
              "\n",
              "    .dataframe tbody tr th {\n",
              "        vertical-align: top;\n",
              "    }\n",
              "\n",
              "    .dataframe thead th {\n",
              "        text-align: right;\n",
              "    }\n",
              "</style>\n",
              "<table border=\"1\" class=\"dataframe\">\n",
              "  <thead>\n",
              "    <tr style=\"text-align: right;\">\n",
              "      <th></th>\n",
              "      <th>月ブロック</th>\n",
              "      <th>商品ID</th>\n",
              "      <th>店舗ID</th>\n",
              "      <th>売上個数</th>\n",
              "      <th>12ヶ月前の売上個数</th>\n",
              "      <th>商品カテゴリID</th>\n",
              "      <th>年</th>\n",
              "      <th>月</th>\n",
              "    </tr>\n",
              "  </thead>\n",
              "  <tbody>\n",
              "    <tr>\n",
              "      <th>0</th>\n",
              "      <td>0</td>\n",
              "      <td>1000001</td>\n",
              "      <td>0</td>\n",
              "      <td>6.0</td>\n",
              "      <td>NaN</td>\n",
              "      <td>100</td>\n",
              "      <td>2018</td>\n",
              "      <td>01</td>\n",
              "    </tr>\n",
              "    <tr>\n",
              "      <th>1</th>\n",
              "      <td>0</td>\n",
              "      <td>1000001</td>\n",
              "      <td>1</td>\n",
              "      <td>2.0</td>\n",
              "      <td>NaN</td>\n",
              "      <td>100</td>\n",
              "      <td>2018</td>\n",
              "      <td>01</td>\n",
              "    </tr>\n",
              "    <tr>\n",
              "      <th>2</th>\n",
              "      <td>0</td>\n",
              "      <td>1000001</td>\n",
              "      <td>2</td>\n",
              "      <td>1.0</td>\n",
              "      <td>NaN</td>\n",
              "      <td>100</td>\n",
              "      <td>2018</td>\n",
              "      <td>01</td>\n",
              "    </tr>\n",
              "    <tr>\n",
              "      <th>3</th>\n",
              "      <td>0</td>\n",
              "      <td>1000001</td>\n",
              "      <td>3</td>\n",
              "      <td>2.0</td>\n",
              "      <td>NaN</td>\n",
              "      <td>100</td>\n",
              "      <td>2018</td>\n",
              "      <td>01</td>\n",
              "    </tr>\n",
              "    <tr>\n",
              "      <th>4</th>\n",
              "      <td>0</td>\n",
              "      <td>1000001</td>\n",
              "      <td>4</td>\n",
              "      <td>0.0</td>\n",
              "      <td>NaN</td>\n",
              "      <td>100</td>\n",
              "      <td>2018</td>\n",
              "      <td>01</td>\n",
              "    </tr>\n",
              "  </tbody>\n",
              "</table>\n",
              "</div>"
            ],
            "text/plain": [
              "   月ブロック     商品ID  店舗ID  売上個数  12ヶ月前の売上個数  商品カテゴリID     年   月\n",
              "0      0  1000001     0   6.0         NaN       100  2018  01\n",
              "1      0  1000001     1   2.0         NaN       100  2018  01\n",
              "2      0  1000001     2   1.0         NaN       100  2018  01\n",
              "3      0  1000001     3   2.0         NaN       100  2018  01\n",
              "4      0  1000001     4   0.0         NaN       100  2018  01"
            ]
          },
          "metadata": {},
          "execution_count": 141
        }
      ]
    },
    {
      "cell_type": "markdown",
      "metadata": {
        "id": "Md4mSmhUBZn3"
      },
      "source": [
        "### 文字列データを数値データに直す: pandas.Series.astype()"
      ]
    },
    {
      "cell_type": "code",
      "metadata": {
        "id": "2Z-zwHPZBZn3"
      },
      "source": [
        "dataset3['年'] = dataset3['年'].astype(int)\n",
        "dataset3['月'] = dataset3['月'].astype(int)"
      ],
      "execution_count": null,
      "outputs": []
    },
    {
      "cell_type": "markdown",
      "metadata": {
        "id": "Z4fPceLRBZn3"
      },
      "source": [
        "### 欠損値を0で埋める"
      ]
    },
    {
      "cell_type": "code",
      "metadata": {
        "colab": {
          "base_uri": "https://localhost:8080/",
          "height": 204
        },
        "id": "5_Scor_4BZn3",
        "outputId": "36bc3ef2-9ba6-4b5c-adf4-4643d1db9435"
      },
      "source": [
        "dataset3 = dataset3.fillna(0)\n",
        "dataset3.head()"
      ],
      "execution_count": null,
      "outputs": [
        {
          "output_type": "execute_result",
          "data": {
            "text/html": [
              "<div>\n",
              "<style scoped>\n",
              "    .dataframe tbody tr th:only-of-type {\n",
              "        vertical-align: middle;\n",
              "    }\n",
              "\n",
              "    .dataframe tbody tr th {\n",
              "        vertical-align: top;\n",
              "    }\n",
              "\n",
              "    .dataframe thead th {\n",
              "        text-align: right;\n",
              "    }\n",
              "</style>\n",
              "<table border=\"1\" class=\"dataframe\">\n",
              "  <thead>\n",
              "    <tr style=\"text-align: right;\">\n",
              "      <th></th>\n",
              "      <th>月ブロック</th>\n",
              "      <th>商品ID</th>\n",
              "      <th>店舗ID</th>\n",
              "      <th>売上個数</th>\n",
              "      <th>12ヶ月前の売上個数</th>\n",
              "      <th>商品カテゴリID</th>\n",
              "      <th>年</th>\n",
              "      <th>月</th>\n",
              "    </tr>\n",
              "  </thead>\n",
              "  <tbody>\n",
              "    <tr>\n",
              "      <th>0</th>\n",
              "      <td>0</td>\n",
              "      <td>1000001</td>\n",
              "      <td>0</td>\n",
              "      <td>6.0</td>\n",
              "      <td>0.0</td>\n",
              "      <td>100</td>\n",
              "      <td>2018</td>\n",
              "      <td>1</td>\n",
              "    </tr>\n",
              "    <tr>\n",
              "      <th>1</th>\n",
              "      <td>0</td>\n",
              "      <td>1000001</td>\n",
              "      <td>1</td>\n",
              "      <td>2.0</td>\n",
              "      <td>0.0</td>\n",
              "      <td>100</td>\n",
              "      <td>2018</td>\n",
              "      <td>1</td>\n",
              "    </tr>\n",
              "    <tr>\n",
              "      <th>2</th>\n",
              "      <td>0</td>\n",
              "      <td>1000001</td>\n",
              "      <td>2</td>\n",
              "      <td>1.0</td>\n",
              "      <td>0.0</td>\n",
              "      <td>100</td>\n",
              "      <td>2018</td>\n",
              "      <td>1</td>\n",
              "    </tr>\n",
              "    <tr>\n",
              "      <th>3</th>\n",
              "      <td>0</td>\n",
              "      <td>1000001</td>\n",
              "      <td>3</td>\n",
              "      <td>2.0</td>\n",
              "      <td>0.0</td>\n",
              "      <td>100</td>\n",
              "      <td>2018</td>\n",
              "      <td>1</td>\n",
              "    </tr>\n",
              "    <tr>\n",
              "      <th>4</th>\n",
              "      <td>0</td>\n",
              "      <td>1000001</td>\n",
              "      <td>4</td>\n",
              "      <td>0.0</td>\n",
              "      <td>0.0</td>\n",
              "      <td>100</td>\n",
              "      <td>2018</td>\n",
              "      <td>1</td>\n",
              "    </tr>\n",
              "  </tbody>\n",
              "</table>\n",
              "</div>"
            ],
            "text/plain": [
              "   月ブロック     商品ID  店舗ID  売上個数  12ヶ月前の売上個数  商品カテゴリID     年  月\n",
              "0      0  1000001     0   6.0         0.0       100  2018  1\n",
              "1      0  1000001     1   2.0         0.0       100  2018  1\n",
              "2      0  1000001     2   1.0         0.0       100  2018  1\n",
              "3      0  1000001     3   2.0         0.0       100  2018  1\n",
              "4      0  1000001     4   0.0         0.0       100  2018  1"
            ]
          },
          "metadata": {},
          "execution_count": 143
        }
      ]
    },
    {
      "cell_type": "markdown",
      "metadata": {
        "id": "ahH5EZPDBZn4"
      },
      "source": [
        "## データセットの整理"
      ]
    },
    {
      "cell_type": "markdown",
      "metadata": {
        "id": "MlFFF8YcBZn4"
      },
      "source": [
        "### データセットを学習用とテスト用に分割する"
      ]
    },
    {
      "cell_type": "code",
      "metadata": {
        "id": "xTzXAtrNBZn4"
      },
      "source": [
        "# 学習データとしては、「12ヶ月前の売上個数」カラムが存在するレコードのみを抽出する\n",
        "train_dataset = dataset3[(dataset3['月ブロック'] >= 12) & (dataset3['月ブロック'] != 23)]\n",
        "\n",
        "test_dataset = dataset3[dataset3['月ブロック'] == 23]"
      ],
      "execution_count": null,
      "outputs": []
    },
    {
      "cell_type": "code",
      "metadata": {
        "colab": {
          "base_uri": "https://localhost:8080/",
          "height": 419
        },
        "id": "5AWxH3tQBZn4",
        "outputId": "8c7d7173-6c24-4ca0-b473-0e59e0d715e8"
      },
      "source": [
        "train_dataset"
      ],
      "execution_count": null,
      "outputs": [
        {
          "output_type": "execute_result",
          "data": {
            "text/html": [
              "<div>\n",
              "<style scoped>\n",
              "    .dataframe tbody tr th:only-of-type {\n",
              "        vertical-align: middle;\n",
              "    }\n",
              "\n",
              "    .dataframe tbody tr th {\n",
              "        vertical-align: top;\n",
              "    }\n",
              "\n",
              "    .dataframe thead th {\n",
              "        text-align: right;\n",
              "    }\n",
              "</style>\n",
              "<table border=\"1\" class=\"dataframe\">\n",
              "  <thead>\n",
              "    <tr style=\"text-align: right;\">\n",
              "      <th></th>\n",
              "      <th>月ブロック</th>\n",
              "      <th>商品ID</th>\n",
              "      <th>店舗ID</th>\n",
              "      <th>売上個数</th>\n",
              "      <th>12ヶ月前の売上個数</th>\n",
              "      <th>商品カテゴリID</th>\n",
              "      <th>年</th>\n",
              "      <th>月</th>\n",
              "    </tr>\n",
              "  </thead>\n",
              "  <tbody>\n",
              "    <tr>\n",
              "      <th>989100</th>\n",
              "      <td>12</td>\n",
              "      <td>1000001</td>\n",
              "      <td>0</td>\n",
              "      <td>2.0</td>\n",
              "      <td>6.0</td>\n",
              "      <td>100</td>\n",
              "      <td>2019</td>\n",
              "      <td>1</td>\n",
              "    </tr>\n",
              "    <tr>\n",
              "      <th>989101</th>\n",
              "      <td>12</td>\n",
              "      <td>1000001</td>\n",
              "      <td>1</td>\n",
              "      <td>0.0</td>\n",
              "      <td>2.0</td>\n",
              "      <td>100</td>\n",
              "      <td>2019</td>\n",
              "      <td>1</td>\n",
              "    </tr>\n",
              "    <tr>\n",
              "      <th>989102</th>\n",
              "      <td>12</td>\n",
              "      <td>1000001</td>\n",
              "      <td>2</td>\n",
              "      <td>0.0</td>\n",
              "      <td>1.0</td>\n",
              "      <td>100</td>\n",
              "      <td>2019</td>\n",
              "      <td>1</td>\n",
              "    </tr>\n",
              "    <tr>\n",
              "      <th>989103</th>\n",
              "      <td>12</td>\n",
              "      <td>1000001</td>\n",
              "      <td>3</td>\n",
              "      <td>5.0</td>\n",
              "      <td>2.0</td>\n",
              "      <td>100</td>\n",
              "      <td>2019</td>\n",
              "      <td>1</td>\n",
              "    </tr>\n",
              "    <tr>\n",
              "      <th>989104</th>\n",
              "      <td>12</td>\n",
              "      <td>1000001</td>\n",
              "      <td>4</td>\n",
              "      <td>4.0</td>\n",
              "      <td>0.0</td>\n",
              "      <td>100</td>\n",
              "      <td>2019</td>\n",
              "      <td>1</td>\n",
              "    </tr>\n",
              "    <tr>\n",
              "      <th>...</th>\n",
              "      <td>...</td>\n",
              "      <td>...</td>\n",
              "      <td>...</td>\n",
              "      <td>...</td>\n",
              "      <td>...</td>\n",
              "      <td>...</td>\n",
              "      <td>...</td>\n",
              "      <td>...</td>\n",
              "    </tr>\n",
              "    <tr>\n",
              "      <th>1648921</th>\n",
              "      <td>21</td>\n",
              "      <td>3500073</td>\n",
              "      <td>13</td>\n",
              "      <td>0.0</td>\n",
              "      <td>0.0</td>\n",
              "      <td>350</td>\n",
              "      <td>2019</td>\n",
              "      <td>10</td>\n",
              "    </tr>\n",
              "    <tr>\n",
              "      <th>1648922</th>\n",
              "      <td>21</td>\n",
              "      <td>3500073</td>\n",
              "      <td>14</td>\n",
              "      <td>0.0</td>\n",
              "      <td>0.0</td>\n",
              "      <td>350</td>\n",
              "      <td>2019</td>\n",
              "      <td>10</td>\n",
              "    </tr>\n",
              "    <tr>\n",
              "      <th>1648923</th>\n",
              "      <td>21</td>\n",
              "      <td>3500073</td>\n",
              "      <td>15</td>\n",
              "      <td>0.0</td>\n",
              "      <td>0.0</td>\n",
              "      <td>350</td>\n",
              "      <td>2019</td>\n",
              "      <td>10</td>\n",
              "    </tr>\n",
              "    <tr>\n",
              "      <th>1648924</th>\n",
              "      <td>21</td>\n",
              "      <td>3500073</td>\n",
              "      <td>16</td>\n",
              "      <td>0.0</td>\n",
              "      <td>0.0</td>\n",
              "      <td>350</td>\n",
              "      <td>2019</td>\n",
              "      <td>10</td>\n",
              "    </tr>\n",
              "    <tr>\n",
              "      <th>1648925</th>\n",
              "      <td>21</td>\n",
              "      <td>3500073</td>\n",
              "      <td>17</td>\n",
              "      <td>1.0</td>\n",
              "      <td>0.0</td>\n",
              "      <td>350</td>\n",
              "      <td>2019</td>\n",
              "      <td>10</td>\n",
              "    </tr>\n",
              "  </tbody>\n",
              "</table>\n",
              "<p>659826 rows × 8 columns</p>\n",
              "</div>"
            ],
            "text/plain": [
              "         月ブロック     商品ID  店舗ID  売上個数  12ヶ月前の売上個数  商品カテゴリID     年   月\n",
              "989100      12  1000001     0   2.0         6.0       100  2019   1\n",
              "989101      12  1000001     1   0.0         2.0       100  2019   1\n",
              "989102      12  1000001     2   0.0         1.0       100  2019   1\n",
              "989103      12  1000001     3   5.0         2.0       100  2019   1\n",
              "989104      12  1000001     4   4.0         0.0       100  2019   1\n",
              "...        ...      ...   ...   ...         ...       ...   ...  ..\n",
              "1648921     21  3500073    13   0.0         0.0       350  2019  10\n",
              "1648922     21  3500073    14   0.0         0.0       350  2019  10\n",
              "1648923     21  3500073    15   0.0         0.0       350  2019  10\n",
              "1648924     21  3500073    16   0.0         0.0       350  2019  10\n",
              "1648925     21  3500073    17   1.0         0.0       350  2019  10\n",
              "\n",
              "[659826 rows x 8 columns]"
            ]
          },
          "metadata": {},
          "execution_count": 145
        }
      ]
    },
    {
      "cell_type": "code",
      "metadata": {
        "colab": {
          "base_uri": "https://localhost:8080/",
          "height": 419
        },
        "id": "q7TyV4WuBZn4",
        "outputId": "039b7e04-ec7b-4d16-9c4d-75311929529f"
      },
      "source": [
        "test_dataset"
      ],
      "execution_count": null,
      "outputs": [
        {
          "output_type": "execute_result",
          "data": {
            "text/html": [
              "<div>\n",
              "<style scoped>\n",
              "    .dataframe tbody tr th:only-of-type {\n",
              "        vertical-align: middle;\n",
              "    }\n",
              "\n",
              "    .dataframe tbody tr th {\n",
              "        vertical-align: top;\n",
              "    }\n",
              "\n",
              "    .dataframe thead th {\n",
              "        text-align: right;\n",
              "    }\n",
              "</style>\n",
              "<table border=\"1\" class=\"dataframe\">\n",
              "  <thead>\n",
              "    <tr style=\"text-align: right;\">\n",
              "      <th></th>\n",
              "      <th>月ブロック</th>\n",
              "      <th>商品ID</th>\n",
              "      <th>店舗ID</th>\n",
              "      <th>売上個数</th>\n",
              "      <th>12ヶ月前の売上個数</th>\n",
              "      <th>商品カテゴリID</th>\n",
              "      <th>年</th>\n",
              "      <th>月</th>\n",
              "    </tr>\n",
              "  </thead>\n",
              "  <tbody>\n",
              "    <tr>\n",
              "      <th>1648926</th>\n",
              "      <td>23</td>\n",
              "      <td>1000001</td>\n",
              "      <td>0</td>\n",
              "      <td>0.0</td>\n",
              "      <td>0.0</td>\n",
              "      <td>100</td>\n",
              "      <td>2019</td>\n",
              "      <td>12</td>\n",
              "    </tr>\n",
              "    <tr>\n",
              "      <th>1648927</th>\n",
              "      <td>23</td>\n",
              "      <td>1000001</td>\n",
              "      <td>1</td>\n",
              "      <td>0.0</td>\n",
              "      <td>0.0</td>\n",
              "      <td>100</td>\n",
              "      <td>2019</td>\n",
              "      <td>12</td>\n",
              "    </tr>\n",
              "    <tr>\n",
              "      <th>1648928</th>\n",
              "      <td>23</td>\n",
              "      <td>1000001</td>\n",
              "      <td>2</td>\n",
              "      <td>0.0</td>\n",
              "      <td>0.0</td>\n",
              "      <td>100</td>\n",
              "      <td>2019</td>\n",
              "      <td>12</td>\n",
              "    </tr>\n",
              "    <tr>\n",
              "      <th>1648929</th>\n",
              "      <td>23</td>\n",
              "      <td>1000001</td>\n",
              "      <td>3</td>\n",
              "      <td>0.0</td>\n",
              "      <td>9.0</td>\n",
              "      <td>100</td>\n",
              "      <td>2019</td>\n",
              "      <td>12</td>\n",
              "    </tr>\n",
              "    <tr>\n",
              "      <th>1648930</th>\n",
              "      <td>23</td>\n",
              "      <td>1000001</td>\n",
              "      <td>4</td>\n",
              "      <td>0.0</td>\n",
              "      <td>7.0</td>\n",
              "      <td>100</td>\n",
              "      <td>2019</td>\n",
              "      <td>12</td>\n",
              "    </tr>\n",
              "    <tr>\n",
              "      <th>...</th>\n",
              "      <td>...</td>\n",
              "      <td>...</td>\n",
              "      <td>...</td>\n",
              "      <td>...</td>\n",
              "      <td>...</td>\n",
              "      <td>...</td>\n",
              "      <td>...</td>\n",
              "      <td>...</td>\n",
              "    </tr>\n",
              "    <tr>\n",
              "      <th>1651981</th>\n",
              "      <td>23</td>\n",
              "      <td>3500001</td>\n",
              "      <td>13</td>\n",
              "      <td>0.0</td>\n",
              "      <td>3.0</td>\n",
              "      <td>350</td>\n",
              "      <td>2019</td>\n",
              "      <td>12</td>\n",
              "    </tr>\n",
              "    <tr>\n",
              "      <th>1651982</th>\n",
              "      <td>23</td>\n",
              "      <td>3500001</td>\n",
              "      <td>14</td>\n",
              "      <td>0.0</td>\n",
              "      <td>0.0</td>\n",
              "      <td>350</td>\n",
              "      <td>2019</td>\n",
              "      <td>12</td>\n",
              "    </tr>\n",
              "    <tr>\n",
              "      <th>1651983</th>\n",
              "      <td>23</td>\n",
              "      <td>3500001</td>\n",
              "      <td>15</td>\n",
              "      <td>0.0</td>\n",
              "      <td>0.0</td>\n",
              "      <td>350</td>\n",
              "      <td>2019</td>\n",
              "      <td>12</td>\n",
              "    </tr>\n",
              "    <tr>\n",
              "      <th>1651984</th>\n",
              "      <td>23</td>\n",
              "      <td>3500001</td>\n",
              "      <td>16</td>\n",
              "      <td>0.0</td>\n",
              "      <td>0.0</td>\n",
              "      <td>350</td>\n",
              "      <td>2019</td>\n",
              "      <td>12</td>\n",
              "    </tr>\n",
              "    <tr>\n",
              "      <th>1651985</th>\n",
              "      <td>23</td>\n",
              "      <td>3500001</td>\n",
              "      <td>17</td>\n",
              "      <td>0.0</td>\n",
              "      <td>1.0</td>\n",
              "      <td>350</td>\n",
              "      <td>2019</td>\n",
              "      <td>12</td>\n",
              "    </tr>\n",
              "  </tbody>\n",
              "</table>\n",
              "<p>3060 rows × 8 columns</p>\n",
              "</div>"
            ],
            "text/plain": [
              "         月ブロック     商品ID  店舗ID  売上個数  12ヶ月前の売上個数  商品カテゴリID     年   月\n",
              "1648926     23  1000001     0   0.0         0.0       100  2019  12\n",
              "1648927     23  1000001     1   0.0         0.0       100  2019  12\n",
              "1648928     23  1000001     2   0.0         0.0       100  2019  12\n",
              "1648929     23  1000001     3   0.0         9.0       100  2019  12\n",
              "1648930     23  1000001     4   0.0         7.0       100  2019  12\n",
              "...        ...      ...   ...   ...         ...       ...   ...  ..\n",
              "1651981     23  3500001    13   0.0         3.0       350  2019  12\n",
              "1651982     23  3500001    14   0.0         0.0       350  2019  12\n",
              "1651983     23  3500001    15   0.0         0.0       350  2019  12\n",
              "1651984     23  3500001    16   0.0         0.0       350  2019  12\n",
              "1651985     23  3500001    17   0.0         1.0       350  2019  12\n",
              "\n",
              "[3060 rows x 8 columns]"
            ]
          },
          "metadata": {},
          "execution_count": 146
        }
      ]
    },
    {
      "cell_type": "markdown",
      "metadata": {
        "id": "Ul7SMOKBBZn5"
      },
      "source": [
        "### データセットを入力値、目標値に分割"
      ]
    },
    {
      "cell_type": "code",
      "metadata": {
        "id": "Qxi9tl94BZn5"
      },
      "source": [
        "X_train = train_dataset.drop('売上個数', axis=1)\n",
        "y_train = train_dataset['売上個数']\n",
        "\n",
        "X_test = test_dataset.drop(['売上個数'], axis=1)"
      ],
      "execution_count": null,
      "outputs": []
    },
    {
      "cell_type": "markdown",
      "metadata": {
        "id": "_k96s9iPBZn5"
      },
      "source": [
        "# 5. モデリング\n",
        "- <font color=\"#FF0000\"><strong>【ポイント】利用するモデルによっても予測精度は変わります。様々なモデル×パラメータチューニングを試してみましょう。</strong></font>\n",
        "- ここでは、特徴量の正規化などは行わずに単純な重回帰モデルによる学習・予測を行った場合の例を示す。"
      ]
    },
    {
      "cell_type": "code",
      "metadata": {
        "colab": {
          "base_uri": "https://localhost:8080/"
        },
        "id": "2RGI5J-1BZn5",
        "outputId": "3aaaeec0-bf71-4f3f-883a-3086444b192e"
      },
      "source": [
        "# モデルインスタンスの生成\n",
        "model = LinearRegression()\n",
        "\n",
        "# モデルの学習\n",
        "model.fit(X_train, y_train)"
      ],
      "execution_count": null,
      "outputs": [
        {
          "output_type": "execute_result",
          "data": {
            "text/plain": [
              "LinearRegression(copy_X=True, fit_intercept=True, n_jobs=None, normalize=False)"
            ]
          },
          "metadata": {},
          "execution_count": 148
        }
      ]
    },
    {
      "cell_type": "code",
      "metadata": {
        "colab": {
          "base_uri": "https://localhost:8080/"
        },
        "id": "VhV1tSDyBZn5",
        "outputId": "d3c4f64a-638e-413c-b0e7-9b18d7d3ebf8"
      },
      "source": [
        "# 学習済みのモデルを使用してテストデータに関する予測値を算出する\n",
        "y_pred = model.predict(X_test)\n",
        "\n",
        "y_pred"
      ],
      "execution_count": null,
      "outputs": [
        {
          "output_type": "execute_result",
          "data": {
            "text/plain": [
              "array([0.81834083, 0.80720594, 0.79607104, ..., 0.21939857, 0.20826367,\n",
              "       0.29310376])"
            ]
          },
          "metadata": {},
          "execution_count": 149
        }
      ]
    },
    {
      "cell_type": "markdown",
      "metadata": {
        "id": "6MKYBH5dBZn5"
      },
      "source": [
        "# 6. 提出用ファイルの作成: pandas.DataFrame.to_csv()\n",
        "\n",
        "sample_submission.csvを元に、提出用ファイルを作成する"
      ]
    },
    {
      "cell_type": "code",
      "metadata": {
        "colab": {
          "base_uri": "https://localhost:8080/",
          "height": 204
        },
        "id": "1IL44Ox8BZn6",
        "outputId": "f73cb49d-04e4-4545-e8ca-6d56ef1d74c3"
      },
      "source": [
        "# sample_submissionの中身を確認\n",
        "sub.head()"
      ],
      "execution_count": null,
      "outputs": [
        {
          "output_type": "execute_result",
          "data": {
            "text/html": [
              "<div>\n",
              "<style scoped>\n",
              "    .dataframe tbody tr th:only-of-type {\n",
              "        vertical-align: middle;\n",
              "    }\n",
              "\n",
              "    .dataframe tbody tr th {\n",
              "        vertical-align: top;\n",
              "    }\n",
              "\n",
              "    .dataframe thead th {\n",
              "        text-align: right;\n",
              "    }\n",
              "</style>\n",
              "<table border=\"1\" class=\"dataframe\">\n",
              "  <thead>\n",
              "    <tr style=\"text-align: right;\">\n",
              "      <th></th>\n",
              "      <th>0</th>\n",
              "      <th>1</th>\n",
              "    </tr>\n",
              "  </thead>\n",
              "  <tbody>\n",
              "    <tr>\n",
              "      <th>0</th>\n",
              "      <td>0</td>\n",
              "      <td>100</td>\n",
              "    </tr>\n",
              "    <tr>\n",
              "      <th>1</th>\n",
              "      <td>1</td>\n",
              "      <td>100</td>\n",
              "    </tr>\n",
              "    <tr>\n",
              "      <th>2</th>\n",
              "      <td>2</td>\n",
              "      <td>100</td>\n",
              "    </tr>\n",
              "    <tr>\n",
              "      <th>3</th>\n",
              "      <td>3</td>\n",
              "      <td>100</td>\n",
              "    </tr>\n",
              "    <tr>\n",
              "      <th>4</th>\n",
              "      <td>4</td>\n",
              "      <td>100</td>\n",
              "    </tr>\n",
              "  </tbody>\n",
              "</table>\n",
              "</div>"
            ],
            "text/plain": [
              "   0    1\n",
              "0  0  100\n",
              "1  1  100\n",
              "2  2  100\n",
              "3  3  100\n",
              "4  4  100"
            ]
          },
          "metadata": {},
          "execution_count": 150
        }
      ]
    },
    {
      "cell_type": "code",
      "metadata": {
        "colab": {
          "base_uri": "https://localhost:8080/",
          "height": 204
        },
        "id": "3S5lFOaFBZn6",
        "outputId": "d5bb822f-c521-4779-f1b8-b0e27695ea07"
      },
      "source": [
        "# sample_submissionの右側のカラムに予測値を代入する。\n",
        "sub.iloc[:, -1] = y_pred\n",
        "\n",
        "sub.head()"
      ],
      "execution_count": null,
      "outputs": [
        {
          "output_type": "execute_result",
          "data": {
            "text/html": [
              "<div>\n",
              "<style scoped>\n",
              "    .dataframe tbody tr th:only-of-type {\n",
              "        vertical-align: middle;\n",
              "    }\n",
              "\n",
              "    .dataframe tbody tr th {\n",
              "        vertical-align: top;\n",
              "    }\n",
              "\n",
              "    .dataframe thead th {\n",
              "        text-align: right;\n",
              "    }\n",
              "</style>\n",
              "<table border=\"1\" class=\"dataframe\">\n",
              "  <thead>\n",
              "    <tr style=\"text-align: right;\">\n",
              "      <th></th>\n",
              "      <th>0</th>\n",
              "      <th>1</th>\n",
              "    </tr>\n",
              "  </thead>\n",
              "  <tbody>\n",
              "    <tr>\n",
              "      <th>0</th>\n",
              "      <td>0</td>\n",
              "      <td>0.818341</td>\n",
              "    </tr>\n",
              "    <tr>\n",
              "      <th>1</th>\n",
              "      <td>1</td>\n",
              "      <td>0.807206</td>\n",
              "    </tr>\n",
              "    <tr>\n",
              "      <th>2</th>\n",
              "      <td>2</td>\n",
              "      <td>0.796071</td>\n",
              "    </tr>\n",
              "    <tr>\n",
              "      <th>3</th>\n",
              "      <td>3</td>\n",
              "      <td>1.648711</td>\n",
              "    </tr>\n",
              "    <tr>\n",
              "      <th>4</th>\n",
              "      <td>4</td>\n",
              "      <td>1.445626</td>\n",
              "    </tr>\n",
              "  </tbody>\n",
              "</table>\n",
              "</div>"
            ],
            "text/plain": [
              "   0         1\n",
              "0  0  0.818341\n",
              "1  1  0.807206\n",
              "2  2  0.796071\n",
              "3  3  1.648711\n",
              "4  4  1.445626"
            ]
          },
          "metadata": {},
          "execution_count": 151
        }
      ]
    },
    {
      "cell_type": "code",
      "metadata": {
        "id": "765dY79LBZn6"
      },
      "source": [
        "# 予測ファイルの生成\n",
        "sub.to_csv('my_submission.csv', index=False, header=False)"
      ],
      "execution_count": null,
      "outputs": []
    }
  ]
}